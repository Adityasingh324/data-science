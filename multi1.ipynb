{
 "cells": [
  {
   "cell_type": "code",
   "execution_count": 2,
   "id": "9fd0d544-f244-4f73-a296-e599aacb2556",
   "metadata": {},
   "outputs": [
    {
     "ename": "SyntaxError",
     "evalue": "unterminated string literal (detected at line 1) (3639001080.py, line 1)",
     "output_type": "error",
     "traceback": [
      "\u001b[0;36m  Cell \u001b[0;32mIn[2], line 1\u001b[0;36m\u001b[0m\n\u001b[0;31m    q1. It's a programming technique that allows you to create and manage multiple processes within a Python program.\u001b[0m\n\u001b[0m          ^\u001b[0m\n\u001b[0;31mSyntaxError\u001b[0m\u001b[0;31m:\u001b[0m unterminated string literal (detected at line 1)\n"
     ]
    }
   ],
   "source": [
    "q1. It's a programming technique that allows you to create and manage multiple processes within a Python program.\n",
    "True parallel execution: Multiprocessing allows you to harness the full power of multi-core processors for CPU-bound tasks, achieving significant performance gains compared to single-process execution."
   ]
  },
  {
   "cell_type": "code",
   "execution_count": 3,
   "id": "eb1853d3-72f1-4616-b805-a19682f01a45",
   "metadata": {},
   "outputs": [
    {
     "ename": "SyntaxError",
     "evalue": "invalid syntax (4136503580.py, line 1)",
     "output_type": "error",
     "traceback": [
      "\u001b[0;36m  Cell \u001b[0;32mIn[3], line 1\u001b[0;36m\u001b[0m\n\u001b[0;31m    q2.  Multiprocessing: Each process has its own memory space, copy of the Python interpreter, and operating system resources. This makes processes fully independent, with any issues in one process typically not affecting others.\u001b[0m\n\u001b[0m                               ^\u001b[0m\n\u001b[0;31mSyntaxError\u001b[0m\u001b[0;31m:\u001b[0m invalid syntax\n"
     ]
    }
   ],
   "source": [
    "q2.  Multiprocessing: Each process has its own memory space, copy of the Python interpreter, and operating system resources. This makes processes fully independent, with any issues in one process typically not affecting others.\n",
    "Multithreading: Threads share the same memory space and resources of the process they belong to. This makes them lightweight and faster to create, but also introduces issues like data races and requires careful synchronization to avoid corruption."
   ]
  },
  {
   "cell_type": "code",
   "execution_count": 4,
   "id": "dedd4a92-5550-4654-8f0b-f4770c2e9146",
   "metadata": {},
   "outputs": [
    {
     "ename": "SyntaxError",
     "evalue": "invalid syntax (18787189.py, line 1)",
     "output_type": "error",
     "traceback": [
      "\u001b[0;36m  Cell \u001b[0;32mIn[4], line 1\u001b[0;36m\u001b[0m\n\u001b[0;31m    q3.  import multiprocessing\u001b[0m\n\u001b[0m         ^\u001b[0m\n\u001b[0;31mSyntaxError\u001b[0m\u001b[0;31m:\u001b[0m invalid syntax\n"
     ]
    }
   ],
   "source": [
    "q3.  import multiprocessing\n",
    "\n",
    "def my_function(name):\n",
    "    print(f\"Process {name} started!\")\n",
    "    # Perform some task here\n",
    "    print(f\"Process {name} completed!\")\n",
    "\n",
    "if __name__ == \"__main__\":  # Ensure this code runs only in the main process\n",
    "    process = multiprocessing.Process(target=my_function, args=(\"Process-1\",))\n",
    "    process.start()  # Start the process\n",
    "    process.join()  # Wait for the process to finish\n",
    "\n",
    "    print(\"Main process finished!\")\n"
   ]
  },
  {
   "cell_type": "code",
   "execution_count": 5,
   "id": "152f1bd5-f15d-41ce-ad3e-b30fcf1e3c61",
   "metadata": {},
   "outputs": [
    {
     "ename": "SyntaxError",
     "evalue": "unterminated string literal (detected at line 1) (2092570798.py, line 1)",
     "output_type": "error",
     "traceback": [
      "\u001b[0;36m  Cell \u001b[0;32mIn[5], line 1\u001b[0;36m\u001b[0m\n\u001b[0;31m    q4.  It's a high-level interface provided by the multiprocessing module for managing a pool of worker processes efficiently.\u001b[0m\n\u001b[0m           ^\u001b[0m\n\u001b[0;31mSyntaxError\u001b[0m\u001b[0;31m:\u001b[0m unterminated string literal (detected at line 1)\n"
     ]
    }
   ],
   "source": [
    "q4.  It's a high-level interface provided by the multiprocessing module for managing a pool of worker processes efficiently.\n",
    "\n",
    "   Simplified parallel execution\n",
    "    Efficient task distribution"
   ]
  },
  {
   "cell_type": "code",
   "execution_count": 7,
   "id": "7b6635cb-450c-4550-844b-b2e0f4e6c031",
   "metadata": {},
   "outputs": [
    {
     "ename": "IndentationError",
     "evalue": "unindent does not match any outer indentation level (<tokenize>, line 3)",
     "output_type": "error",
     "traceback": [
      "\u001b[0;36m  File \u001b[0;32m<tokenize>:3\u001b[0;36m\u001b[0m\n\u001b[0;31m    Define a function to be executed in parallel:\u001b[0m\n\u001b[0m    ^\u001b[0m\n\u001b[0;31mIndentationError\u001b[0m\u001b[0;31m:\u001b[0m unindent does not match any outer indentation level\n"
     ]
    }
   ],
   "source": [
    "q5.  Import the module\n",
    "         Create a Pool object\n",
    "    Define a function to be executed in parallel:\n",
    "        Apply the function to data using the pool\n",
    "        Close the pool when finished"
   ]
  },
  {
   "cell_type": "code",
   "execution_count": null,
   "id": "40a9ab68-6714-4a60-90f8-534c01e9a2e1",
   "metadata": {},
   "outputs": [],
   "source": []
  }
 ],
 "metadata": {
  "kernelspec": {
   "display_name": "Python 3 (ipykernel)",
   "language": "python",
   "name": "python3"
  },
  "language_info": {
   "codemirror_mode": {
    "name": "ipython",
    "version": 3
   },
   "file_extension": ".py",
   "mimetype": "text/x-python",
   "name": "python",
   "nbconvert_exporter": "python",
   "pygments_lexer": "ipython3",
   "version": "3.10.8"
  }
 },
 "nbformat": 4,
 "nbformat_minor": 5
}
