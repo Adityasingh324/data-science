{
 "cells": [
  {
   "cell_type": "markdown",
   "id": "19667e21-4655-4590-8bb6-657c9e34d7b2",
   "metadata": {},
   "source": [
    "Q1\n",
    "\n",
    "Yes, there is a difference in the data type of the variables list_ and array_list.\n",
    "\n",
    "The data type of list_ is <class 'list'>, which means it is a Python list. Lists are mutable, meaning their elements can be changed after they are created.\n",
    "The data type of array_list is object, which means it is a NumPy array of objects. NumPy arrays are immutable, meaning their elements cannot be changed after they are created. Additionally, NumPy arrays are more efficient for storing and manipulating numerical data than Python lists."
   ]
  },
  {
   "cell_type": "code",
   "execution_count": 1,
   "id": "71a54f15-f9fb-4f78-a844-5fb0b42a35e3",
   "metadata": {},
   "outputs": [
    {
     "name": "stdout",
     "output_type": "stream",
     "text": [
      "Data type of list_:  <class 'list'>\n",
      "Data type of array_list:  object\n"
     ]
    }
   ],
   "source": [
    "import numpy as np\n",
    "\n",
    "# Create a list of strings\n",
    "list_ = ['1', '2', '3', '4', '5']\n",
    "\n",
    "# Convert the list to a NumPy array of strings\n",
    "array_list = np.array(list_, dtype=object)\n",
    "\n",
    "# Print the data types of both variables\n",
    "print(\"Data type of list_: \", type(list_))\n",
    "print(\"Data type of array_list: \", array_list.dtype)\n"
   ]
  },
  {
   "cell_type": "code",
   "execution_count": 3,
   "id": "b3b85f94-7999-4d9f-95c4-460ea882e226",
   "metadata": {},
   "outputs": [
    {
     "name": "stdout",
     "output_type": "stream",
     "text": [
      "Data type of each element in list_:  <class 'str'>\n",
      "Data type of each element in array_list:  object\n"
     ]
    }
   ],
   "source": [
    "#Q2\n",
    "import numpy as np\n",
    "\n",
    "list_ = ['1', '2', '3', '4', '5']\n",
    "array_list = np.array(list_, dtype=object)\n",
    "\n",
    "# Print the data types directly (no need to iterate through elements)\n",
    "print(\"Data type of each element in list_: \", str(list_[0]).__class__)\n",
    "print(\"Data type of each element in array_list: \", array_list.dtype)\n"
   ]
  },
  {
   "cell_type": "markdown",
   "id": "9b5f36b8-1c27-4331-b785-cf7ceab6cb1d",
   "metadata": {},
   "source": [
    "Q3\n",
    "Yes, there will be a difference in the data type of the elements in list_ and array_list with the provided code:"
   ]
  },
  {
   "cell_type": "code",
   "execution_count": 4,
   "id": "25f83655-8f67-43e5-9fc3-9cf918c1697d",
   "metadata": {},
   "outputs": [
    {
     "name": "stdout",
     "output_type": "stream",
     "text": [
      "Data type of each element in list_:  [<class 'str'>, <class 'str'>, <class 'str'>, <class 'str'>, <class 'str'>]\n",
      "Data type of each element in array_list:  int64\n"
     ]
    }
   ],
   "source": [
    "import numpy as np\n",
    "\n",
    "list_ = ['1', '2', '3', '4', '5']\n",
    "\n",
    "# Convert the list to a NumPy array with dtype=int\n",
    "array_list = np.array(list_, dtype=int)\n",
    "\n",
    "# Print the data types of elements\n",
    "print(\"Data type of each element in list_: \", [type(x) for x in list_])\n",
    "print(\"Data type of each element in array_list: \", array_list.dtype)\n"
   ]
  },
  {
   "cell_type": "code",
   "execution_count": 5,
   "id": "8297b8de-86a7-46cd-9d0c-9280f452f508",
   "metadata": {},
   "outputs": [
    {
     "name": "stdout",
     "output_type": "stream",
     "text": [
      "Shape of num_array: (2, 3)\n",
      "Size of num_array: 6\n"
     ]
    }
   ],
   "source": [
    "#Q4\n",
    "import numpy as np\n",
    "\n",
    "# Create a list of lists\n",
    "num_list = [[1, 2, 3], [4, 5, 6]]\n",
    "\n",
    "# Convert the list to a NumPy array\n",
    "num_array = np.array(num_list)\n",
    "\n",
    "# Find the shape and size of the array\n",
    "shape = num_array.shape\n",
    "size = num_array.size\n",
    "\n",
    "# Print the shape and size\n",
    "print(\"Shape of num_array:\", shape)\n",
    "print(\"Size of num_array:\", size)\n"
   ]
  },
  {
   "cell_type": "code",
   "execution_count": 7,
   "id": "4e945abe-fd55-44ef-b962-370cdc27d8bc",
   "metadata": {},
   "outputs": [
    {
     "name": "stdout",
     "output_type": "stream",
     "text": [
      "[[0. 0. 0.]\n",
      " [0. 0. 0.]\n",
      " [0. 0. 0.]]\n"
     ]
    }
   ],
   "source": [
    "#Q5\n",
    "import numpy as np\n",
    "\n",
    "# Create a 3x3 zero matrix using np.zeros\n",
    "zero_matrix = np.zeros(shape=(3, 3))\n",
    "\n",
    "# Print the matrix\n",
    "print(zero_matrix)\n"
   ]
  },
  {
   "cell_type": "code",
   "execution_count": 8,
   "id": "f8e52596-c5c8-4d29-aef5-01f22007afda",
   "metadata": {},
   "outputs": [
    {
     "name": "stdout",
     "output_type": "stream",
     "text": [
      "[[1. 0. 0. 0. 0.]\n",
      " [0. 1. 0. 0. 0.]\n",
      " [0. 0. 1. 0. 0.]\n",
      " [0. 0. 0. 1. 0.]\n",
      " [0. 0. 0. 0. 1.]]\n"
     ]
    }
   ],
   "source": [
    "#Q6\n",
    "import numpy as np\n",
    "\n",
    "# Create a 5x5 identity matrix using np.eye\n",
    "identity_matrix = np.eye(5)\n",
    "\n",
    "# Print the matrix\n",
    "print(identity_matrix)\n"
   ]
  },
  {
   "cell_type": "code",
   "execution_count": null,
   "id": "971c7587-744e-460e-99cd-368f45dc9e18",
   "metadata": {},
   "outputs": [],
   "source": []
  }
 ],
 "metadata": {
  "kernelspec": {
   "display_name": "Python 3 (ipykernel)",
   "language": "python",
   "name": "python3"
  },
  "language_info": {
   "codemirror_mode": {
    "name": "ipython",
    "version": 3
   },
   "file_extension": ".py",
   "mimetype": "text/x-python",
   "name": "python",
   "nbconvert_exporter": "python",
   "pygments_lexer": "ipython3",
   "version": "3.10.8"
  }
 },
 "nbformat": 4,
 "nbformat_minor": 5
}
