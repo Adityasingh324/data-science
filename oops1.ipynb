{
 "cells": [
  {
   "cell_type": "code",
   "execution_count": 2,
   "id": "9a14fff1-36fb-4219-abb4-48f57084372a",
   "metadata": {},
   "outputs": [
    {
     "name": "stdout",
     "output_type": "stream",
     "text": [
      "The car is now going 10 km/h.\n",
      "The car is now going 10 km/h.\n",
      "The car slowed down to 0 km/h.\n"
     ]
    }
   ],
   "source": [
    "#Q1  In object-oriented programming (OOP), a class is a blueprint or a template for creating objects. It defines the attributes (also called properties or fields) and behaviors (also called methods) that objects of that class will have. In simpler terms, a class is like a recipe that describes how an object of a certain type should be structured and what actions it can perform.\n",
    "\n",
    "\n",
    "\n",
    "\n",
    "\n",
    "class Car:\n",
    "    def __init__(self, make, model, year):\n",
    "        self.make = make\n",
    "        self.model = model\n",
    "        self.year = year\n",
    "        self.speed = 0\n",
    "    \n",
    "    def accelerate(self):\n",
    "        self.speed += 10\n",
    "        print(f\"The car is now going {self.speed} km/h.\")\n",
    "    \n",
    "    def brake(self):\n",
    "        if self.speed >= 10:\n",
    "            self.speed -= 10\n",
    "            print(f\"The car slowed down to {self.speed} km/h.\")\n",
    "        else:\n",
    "            print(\"The car is already stopped.\")\n",
    "\n",
    "# Creating objects\n",
    "car1 = Car(\"Toyota\", \"Corolla\", 2023)\n",
    "car2 = Car(\"Ford\", \"Mustang\", 2022)\n",
    "\n",
    "# Using object methods\n",
    "car1.accelerate()  \n",
    "car2.accelerate()  \n",
    "car1.brake()       \n"
   ]
  },
  {
   "cell_type": "code",
   "execution_count": 4,
   "id": "a8460af8-4bfe-49b1-bb12-c47cb929d3fc",
   "metadata": {},
   "outputs": [],
   "source": [
    "#q2  four pillers of oops are  \n",
    "# encapsulation,abstraction,inheritense,polymorphism"
   ]
  },
  {
   "cell_type": "code",
   "execution_count": 5,
   "id": "1d946263-0f6f-4699-b5a1-f503bf7028d5",
   "metadata": {},
   "outputs": [
    {
     "name": "stdout",
     "output_type": "stream",
     "text": [
      "Hi, my name is Adi and I am 28 years old.\n",
      "Hi, my name is Bob and I am 35 years old.\n"
     ]
    }
   ],
   "source": [
    "#Q3  In object-oriented programming, the __init__() function, also known as the constructor, is a special method used to initialize the attributes of an object when it is created from a class\n",
    "\n",
    "class Person:\n",
    "    def __init__(self, name, age):\n",
    "        self.name = name\n",
    "        self.age = age\n",
    "\n",
    "    def introduce(self):\n",
    "        print(f\"Hi, my name is {self.name} and I am {self.age} years old.\")\n",
    "\n",
    "# Creating objects and using the __init__() method\n",
    "person1 = Person(\"Adi\", 28)\n",
    "person2 = Person(\"Bob\", 35)\n",
    "\n",
    "person1.introduce()  \n",
    "person2.introduce()  \n"
   ]
  },
  {
   "cell_type": "code",
   "execution_count": 6,
   "id": "dfaf58f7-abeb-4c67-ab0f-b167f115b209",
   "metadata": {},
   "outputs": [],
   "source": [
    "#Q4 n object-oriented programming (OOP), self is a convention used to refer to the instance of the class within the class itself. It acts as a reference to the current object, allowing you to access the attributes and methods of that object. In most object-oriented languages, including Python, the first parameter of instance methods is conventionally named self."
   ]
  },
  {
   "cell_type": "code",
   "execution_count": 9,
   "id": "ee99491e-f012-47e2-bb67-925ddfc1bbf7",
   "metadata": {},
   "outputs": [],
   "source": [
    "#Q5  Inheritance is a fundamental concept in object-oriented programming (OOP) that allows you to create a new class (subclass or derived class) based on an existing class (superclass or base class).\n",
    "\n",
    "#single inhertance\n",
    "\n",
    "class Animal:\n",
    "    def speak(self):\n",
    "        pass\n",
    "\n",
    "class Dog(Animal):\n",
    "    def speak(self):\n",
    "        return \"Woof!\"\n",
    "\n",
    "class Cat(Animal):\n",
    "    def speak(self):\n",
    "        return \"Meow!\"\n"
   ]
  },
  {
   "cell_type": "code",
   "execution_count": 8,
   "id": "39eae925-d699-4e6c-86bf-9d82c9171db8",
   "metadata": {},
   "outputs": [
    {
     "name": "stdout",
     "output_type": "stream",
     "text": [
      "Fishing\n"
     ]
    }
   ],
   "source": [
    "# mutiple \n",
    "\n",
    "class Father:\n",
    "    def skill(self):\n",
    "        return \"Fishing\"\n",
    "\n",
    "class Mother:\n",
    "    def skill(self):\n",
    "        return \"Cooking\"\n",
    "\n",
    "class Child(Father, Mother):\n",
    "    pass\n",
    "\n",
    "child = Child()\n",
    "print(child.skill())  \n"
   ]
  },
  {
   "cell_type": "code",
   "execution_count": 10,
   "id": "1a76106d-b7a3-4d18-a4fb-9b96748b0df6",
   "metadata": {},
   "outputs": [
    {
     "name": "stdout",
     "output_type": "stream",
     "text": [
      "Hello, my grandchild!\n"
     ]
    }
   ],
   "source": [
    "#multilevel\n",
    "\n",
    "class Grandparent:\n",
    "    def greet(self):\n",
    "        return \"Hello, my grandchild!\"\n",
    "\n",
    "class Parent(Grandparent):\n",
    "    pass\n",
    "\n",
    "class Child(Parent):\n",
    "    pass\n",
    "\n",
    "child = Child()\n",
    "print(child.greet())  \n",
    "\n"
   ]
  },
  {
   "cell_type": "code",
   "execution_count": 11,
   "id": "93d77526-6469-4fb0-8917-6bb19d812918",
   "metadata": {},
   "outputs": [],
   "source": [
    "#hieraarchical\n",
    "\n",
    "class Shape:\n",
    "    def area(self):\n",
    "        pass\n",
    "\n",
    "class Circle(Shape):\n",
    "    def area(self, radius):\n",
    "        return 3.14 * radius ** 2\n",
    "\n",
    "class Square(Shape):\n",
    "    def area(self, side):\n",
    "        return side ** 2\n",
    "\n",
    "class Triangle(Shape):\n",
    "    def area(self, base, height):\n",
    "        return 0.5 * base * height\n"
   ]
  },
  {
   "cell_type": "code",
   "execution_count": null,
   "id": "5423abbc-489d-4a7a-84d5-81f31ceae23a",
   "metadata": {},
   "outputs": [],
   "source": []
  }
 ],
 "metadata": {
  "kernelspec": {
   "display_name": "Python 3 (ipykernel)",
   "language": "python",
   "name": "python3"
  },
  "language_info": {
   "codemirror_mode": {
    "name": "ipython",
    "version": 3
   },
   "file_extension": ".py",
   "mimetype": "text/x-python",
   "name": "python",
   "nbconvert_exporter": "python",
   "pygments_lexer": "ipython3",
   "version": "3.10.8"
  }
 },
 "nbformat": 4,
 "nbformat_minor": 5
}
