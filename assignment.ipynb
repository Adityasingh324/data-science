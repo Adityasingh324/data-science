{
 "cells": [
  {
   "cell_type": "code",
   "execution_count": 1,
   "id": "cd8fdb63-8cd9-49b1-8200-ccd542357b17",
   "metadata": {},
   "outputs": [
    {
     "ename": "SyntaxError",
     "evalue": "unterminated string literal (detected at line 6) (1898133105.py, line 6)",
     "output_type": "error",
     "traceback": [
      "\u001b[0;36m  Cell \u001b[0;32mIn[1], line 6\u001b[0;36m\u001b[0m\n\u001b[0;31m    Examples of exceptions include ZeroDivisionError (dividing by zero), ValueError (invalid input for a function), and FileNotFoundError (trying to open a file that doesn't exist).\u001b[0m\n\u001b[0m                                                                                                                                                                           ^\u001b[0m\n\u001b[0;31mSyntaxError\u001b[0m\u001b[0;31m:\u001b[0m unterminated string literal (detected at line 6)\n"
     ]
    }
   ],
   "source": [
    "#q1.In Python, an exception is an event that disrupts the normal flow of a program's instructions. When an error occurs during the execution of a Python program, an exception may be raised. This can happen for a variety of reasons, such as attempting to perform an invalid operation or encountering an unexpected condition.\n",
    "Exception:\n",
    "\n",
    "An exception is an error that occurs during the execution of a program.\n",
    "It can occur due to various reasons, including user input errors, logical errors, or external factors like file I/O errors or network issues.\n",
    "Examples of exceptions include ZeroDivisionError (dividing by zero), ValueError (invalid input for a function), and FileNotFoundError (trying to open a file that doesn't exist).\n",
    "Syntax Error:\n",
    "\n",
    "A syntax error is a type of error that occurs when the Python interpreter encounters a problem with the structure of your code.\n",
    "It is typically a mistake in the way the code is written, such as a missing colon, mismatched parentheses, or a misspelled keyword.\n",
    "Syntax errors prevent the program from running at all, and they are detected by the Python interpreter before the program starts executing."
   ]
  },
  {
   "cell_type": "code",
   "execution_count": 3,
   "id": "0f2c0b5a-d5fe-41f2-b11f-2acd3761e7b1",
   "metadata": {},
   "outputs": [
    {
     "ename": "ZeroDivisionError",
     "evalue": "division by zero",
     "output_type": "error",
     "traceback": [
      "\u001b[0;31m---------------------------------------------------------------------------\u001b[0m",
      "\u001b[0;31mZeroDivisionError\u001b[0m                         Traceback (most recent call last)",
      "Cell \u001b[0;32mIn[3], line 8\u001b[0m\n\u001b[1;32m      5\u001b[0m     result \u001b[38;5;241m=\u001b[39m a \u001b[38;5;241m/\u001b[39m b\n\u001b[1;32m      6\u001b[0m     \u001b[38;5;28;01mreturn\u001b[39;00m result\n\u001b[0;32m----> 8\u001b[0m result \u001b[38;5;241m=\u001b[39m \u001b[43mdivide\u001b[49m\u001b[43m(\u001b[49m\u001b[38;5;241;43m5\u001b[39;49m\u001b[43m,\u001b[49m\u001b[43m \u001b[49m\u001b[38;5;241;43m0\u001b[39;49m\u001b[43m)\u001b[49m\n\u001b[1;32m      9\u001b[0m \u001b[38;5;28mprint\u001b[39m(result)\n",
      "Cell \u001b[0;32mIn[3], line 5\u001b[0m, in \u001b[0;36mdivide\u001b[0;34m(a, b)\u001b[0m\n\u001b[1;32m      4\u001b[0m \u001b[38;5;28;01mdef\u001b[39;00m \u001b[38;5;21mdivide\u001b[39m(a, b):\n\u001b[0;32m----> 5\u001b[0m     result \u001b[38;5;241m=\u001b[39m \u001b[43ma\u001b[49m\u001b[43m \u001b[49m\u001b[38;5;241;43m/\u001b[39;49m\u001b[43m \u001b[49m\u001b[43mb\u001b[49m\n\u001b[1;32m      6\u001b[0m     \u001b[38;5;28;01mreturn\u001b[39;00m result\n",
      "\u001b[0;31mZeroDivisionError\u001b[0m: division by zero"
     ]
    }
   ],
   "source": [
    "#q2\n",
    "#When an exception is not handled, it propagates up the call stack until it reaches the top level of the program. If it's still not handled there, the program will terminate, and a traceback (error message) will be displayed, indicating the type of exception and the line of code where it occurred.\n",
    "\n",
    "def divide(a, b):\n",
    "    result = a / b\n",
    "    return result\n",
    "\n",
    "result = divide(5, 0)\n",
    "print(result)"
   ]
  },
  {
   "cell_type": "code",
   "execution_count": 4,
   "id": "b99ec91e-29e6-4963-bed5-33f798204cdb",
   "metadata": {},
   "outputs": [],
   "source": [
    "#q3\n",
    "#In Python, you can use the try and except statements to catch and handle exceptions. This allows you to gracefully deal with errors and prevent them from causing your program to crash.\n",
    "def divide(a, b):\n",
    "    try:\n",
    "        result = a / b\n",
    "        return result\n",
    "    except ZeroDivisionError as e:\n",
    "        print(f\"Error: {e}\")\n",
    "        return None\n",
    "    except ValueError as e:\n",
    "        print(f\"ValueError: {e}\")\n",
    "        return None"
   ]
  },
  {
   "cell_type": "code",
   "execution_count": 5,
   "id": "d847ef72-e374-4f0b-8121-b240634aa19b",
   "metadata": {},
   "outputs": [
    {
     "name": "stdout",
     "output_type": "stream",
     "text": [
      "Division successful!\n",
      "Division operation complete.\n",
      "Result 1: 5.0\n",
      "Error: division by zero\n",
      "Division operation complete.\n",
      "Result 2: None\n",
      "Caught custom exception: This is a custom exception.\n"
     ]
    }
   ],
   "source": [
    "#q4\n",
    "def divide(a, b):\n",
    "    try:\n",
    "        result = a / b\n",
    "    except ZeroDivisionError as e:\n",
    "        print(f\"Error: {e}\")\n",
    "        return None\n",
    "    else:\n",
    "        print(\"Division successful!\")\n",
    "        return result\n",
    "    finally:\n",
    "        print(\"Division operation complete.\")\n",
    "\n",
    "# Example 1: Divide by a non-zero number\n",
    "result1 = divide(10, 2)\n",
    "print(f\"Result 1: {result1}\")\n",
    "\n",
    "# Example 2: Divide by zero (exception will be raised)\n",
    "result2 = divide(5, 0)\n",
    "print(f\"Result 2: {result2}\")\n",
    "\n",
    "# Example 3: Manually raise an exception\n",
    "def custom_exception():\n",
    "    try:\n",
    "        raise ValueError(\"This is a custom exception.\")\n",
    "    except ValueError as e:\n",
    "        print(f\"Caught custom exception: {e}\")\n",
    "\n",
    "custom_exception()\n"
   ]
  },
  {
   "cell_type": "code",
   "execution_count": 6,
   "id": "602e8391-b2ab-42d1-ad2f-d993db0cb062",
   "metadata": {},
   "outputs": [
    {
     "name": "stdout",
     "output_type": "stream",
     "text": [
      "Error occurred: Empty data provided\n"
     ]
    }
   ],
   "source": [
    "#q5Custom exceptions, also known as user-defined exceptions, are exceptions that are defined by the programmer to handle specific error conditions in their code. These exceptions extend the built-in exception classes in Python and allow you to create more meaningful error messages and handling mechanisms for specific situations.\n",
    "class CustomError(Exception):\n",
    "    def __init__(self, message):\n",
    "        self.message = message\n",
    "        super().__init__(self.message)\n",
    "\n",
    "def process_data(data):\n",
    "    if not data:\n",
    "        raise CustomError(\"Empty data provided\")\n",
    "    # Process data here\n",
    "\n",
    "try:\n",
    "    data = []  # Simulating empty data\n",
    "    process_data(data)\n",
    "except CustomError as e:\n",
    "    print(f\"Error occurred: {e}\")\n"
   ]
  },
  {
   "cell_type": "code",
   "execution_count": 7,
   "id": "4fb4a025-246f-4dfe-8b63-e430fee9d1e3",
   "metadata": {},
   "outputs": [
    {
     "name": "stdout",
     "output_type": "stream",
     "text": [
      "Error occurred: Empty data provided\n"
     ]
    }
   ],
   "source": [
    "#q6\n",
    "class CustomError(Exception):\n",
    "    def __init__(self, message):\n",
    "        self.message = message\n",
    "        super().__init__(self.message)\n",
    "\n",
    "def process_data(data):\n",
    "    if not data:\n",
    "        raise CustomError(\"Empty data provided\")\n",
    "    # Process data here\n",
    "\n",
    "try:\n",
    "    data = []  # Simulating empty data\n",
    "    process_data(data)\n",
    "except CustomError as e:\n",
    "    print(f\"Error occurred: {e}\")\n"
   ]
  },
  {
   "cell_type": "code",
   "execution_count": null,
   "id": "192dcb3e-d42e-424a-b01a-202b71f5be1f",
   "metadata": {},
   "outputs": [],
   "source": []
  }
 ],
 "metadata": {
  "kernelspec": {
   "display_name": "Python 3 (ipykernel)",
   "language": "python",
   "name": "python3"
  },
  "language_info": {
   "codemirror_mode": {
    "name": "ipython",
    "version": 3
   },
   "file_extension": ".py",
   "mimetype": "text/x-python",
   "name": "python",
   "nbconvert_exporter": "python",
   "pygments_lexer": "ipython3",
   "version": "3.10.8"
  }
 },
 "nbformat": 4,
 "nbformat_minor": 5
}
