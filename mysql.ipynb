{
 "cells": [
  {
   "cell_type": "markdown",
   "id": "b2e80d50-4267-49a6-9f07-5fa13b676944",
   "metadata": {},
   "source": [
    "Q1. A structured collection of data organized to facilitate efficient access, management, and updating. Stores information in an organized manner, allowing for easy retrieval, manipulation, and analysis.\n",
    "\n",
    "\n",
    "\n",
    "SQL\n",
    "\n",
    "Relational databases that store data in tables with rows and columns.\n",
    "Enforce a strict schema, meaning data types and relationships must be defined upfront.\n",
    "Use SQL as a standard language for data manipulation and queries.\n",
    "\n",
    "NoSQl\n",
    "\n",
    "Non-relational databases that store data in diverse structures (documents, key-value pairs, graphs, wide-column stores).\n",
    "Offer flexible schemas that can adapt to evolving data needs.\n",
    "Provide various query mechanisms depending on the type of database."
   ]
  },
  {
   "cell_type": "markdown",
   "id": "d9b509fc-b91d-43fa-abbb-9e57b1cbac1d",
   "metadata": {},
   "source": [
    "Q2.\n",
    "DDL (Data Definition Language) is a subset of SQL commands used to create, modify, and delete the structure of database objects, such as tables, indexes, and views. It's the language you use to define the architecture of your database.\n",
    "\n",
    "create\n",
    "it is used to create new database objects.\n",
    "eg:- CREATE TABLE Customers (customer_id INT, name VARCHAR(255), email VARCHAR(255));\n",
    "\n",
    "Drop:-\n",
    "it is used to permanently delete the datasbase object\n",
    "eg:- DROP TABLE Customers;\n",
    "\n",
    "ALTER;-\n",
    "used to modify the structure of existing database objects.\n",
    "eg;- ALTER TABLE Customers ADD COLUMN phone_number VARCHAR(20);\n",
    "\n",
    "TRUNCATE:\n",
    "\n",
    "used to quickly delete all data from a table, but the table structure itself remains intact.\n",
    "Eg;- TRUNCATE TABLE Customers;"
   ]
  },
  {
   "cell_type": "markdown",
   "id": "174e2906-901b-4b35-ad7c-eb0df470f476",
   "metadata": {},
   "source": [
    "Q3.\n",
    "DML (Data Manipulation Language) is a subset of SQL commands used to manage and modify data within a database. It's the language that allows you to add, change, and remove data from tables.\n",
    " INSERT:\n",
    "\n",
    "used to add new rows (records) to a table.\n",
    "insert INTO Customers (CustomerName, ContactName, Address, City, PostalCode, Country)\n",
    "VALUES ('Alfreds Futterkiste', 'Maria Anders', 'Obere Str. 57', 'Berlin', '12209', 'Germany');\n",
    "\n",
    " UPDATE:\n",
    " Used to modify existing data within rows of a table.\n",
    " UPDATE Customers\n",
    "SET ContactName = 'Juan', City = 'Madrid'\n",
    "WHERE CustomerID = 1;\n",
    "\n",
    "\n",
    "DELETE:\n",
    "\n",
    "Used to remove rows from a table.\n",
    "\n",
    "DELETE FROM Customers\n",
    "WHERE CustomerID = 5;\n"
   ]
  },
  {
   "cell_type": "markdown",
   "id": "aa133638-9f58-4fcc-8283-e2d34979505a",
   "metadata": {},
   "source": [
    "Q4.  \n",
    "DQL (Data Query Language) is the subset of SQL commands used to retrieve and manipulate data from a database. It's the language that allows you to ask questions and get answers from your database.\n",
    "Select is used to extract specific data from one or more tables based on specified criteria.\n",
    "\n",
    "SELECT columns\n",
    "FROM table_name\n",
    "WHERE conditions;\n"
   ]
  },
  {
   "cell_type": "markdown",
   "id": "2c5f58e9-12d2-406f-9de8-c8085860695f",
   "metadata": {},
   "source": [
    "Q5.\n",
    "Primary Key (PK):\n",
    "\n",
    "Unique identifier: It's a single column or a combination of columns that uniquely identifies each row (record) in a table. No two rows can have the same primary key value.\n",
    "Enforces uniqueness: It ensures that data is not duplicated within the table.\n",
    "\n",
    "Foreign Key (FK):\n",
    "\n",
    "Links tables: It's a column or a set of columns in one table that references the primary key of another table. This creates relationships between tables.\n",
    "Maintains referential integrity: It ensures that data in one table corresponds to valid data in another table."
   ]
  },
  {
   "cell_type": "markdown",
   "id": "4b45c297-b8cd-4bf4-9c6c-66e924336f8b",
   "metadata": {},
   "source": [
    "Q6\n",
    "import mysql.connector\n",
    "\n",
    "\n",
    "mydb = mysql.connector.connect(\n",
    "  host=\"localhost\",  # Replace with your MySQL server's hostname\n",
    "  user=\"yourusername\",   # Replace with your MySQL username\n",
    "  password=\"yourpassword\",  # Replace with your MySQL password\n",
    "  database=\"yourdatabase\"  # Replace with the name of your database\n",
    ")\n",
    "\n",
    "\n",
    "mycursor = mydb.cursor()\n",
    "\n",
    "\n",
    "mycursor.execute(\"SELECT * FROM yourtable\")  \n",
    "\n",
    "myresult = mycursor.fetchall()\n",
    "\n",
    "\n",
    "for row in myresult:\n",
    "  print(row)\n",
    "\n",
    "\n",
    "mycursor.close()\n",
    "mydb.close()\n",
    "\n",
    "\n",
    "cursor():\n",
    "\n",
    "Creates a cursor object, which acts as a pointer to the database.\n",
    "It's used to execute SQL statements and fetch results.\n",
    "\n",
    "execute():\n",
    "\n",
    "Executes the given SQL query using the cursor object.\n",
    "It sends the query to the MySQL server and processes it.\n"
   ]
  },
  {
   "cell_type": "markdown",
   "id": "34a76efa-9d87-4518-b8ec-2a80a3260216",
   "metadata": {},
   "source": []
  }
 ],
 "metadata": {
  "kernelspec": {
   "display_name": "Python 3 (ipykernel)",
   "language": "python",
   "name": "python3"
  },
  "language_info": {
   "codemirror_mode": {
    "name": "ipython",
    "version": 3
   },
   "file_extension": ".py",
   "mimetype": "text/x-python",
   "name": "python",
   "nbconvert_exporter": "python",
   "pygments_lexer": "ipython3",
   "version": "3.10.8"
  }
 },
 "nbformat": 4,
 "nbformat_minor": 5
}
