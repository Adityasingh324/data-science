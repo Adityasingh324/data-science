{
 "cells": [
  {
   "cell_type": "code",
   "execution_count": 2,
   "id": "db363559-a013-47be-af65-d03cd4fb04c9",
   "metadata": {},
   "outputs": [
    {
     "ename": "SyntaxError",
     "evalue": "invalid syntax (3650400081.py, line 1)",
     "output_type": "error",
     "traceback": [
      "\u001b[0;36m  Cell \u001b[0;32mIn[2], line 1\u001b[0;36m\u001b[0m\n\u001b[0;31m    Q1.\u001b[0m\n\u001b[0m       ^\u001b[0m\n\u001b[0;31mSyntaxError\u001b[0m\u001b[0;31m:\u001b[0m invalid syntax\n"
     ]
    }
   ],
   "source": [
    "Q1.\n",
    "import pandas as pd\n",
    "\n",
    "\n",
    "course_name = ['Data Science', 'Machine Learning', 'Big Data', 'Data Engineer']\n",
    "duration = [2, 3, 6, 4]\n",
    "df = pd.DataFrame(data={'course_name': course_name, 'duration': duration})\n",
    "\n",
    "# Print the data present in the second row of the dataframe\n",
    "print(df.iloc[1])\n",
    "\n"
   ]
  },
  {
   "cell_type": "code",
   "execution_count": 3,
   "id": "31957dfe-7249-4122-8249-95b853bca172",
   "metadata": {},
   "outputs": [
    {
     "ename": "SyntaxError",
     "evalue": "invalid syntax (263179831.py, line 1)",
     "output_type": "error",
     "traceback": [
      "\u001b[0;36m  Cell \u001b[0;32mIn[3], line 1\u001b[0;36m\u001b[0m\n\u001b[0;31m    Q2.\u001b[0m\n\u001b[0m       ^\u001b[0m\n\u001b[0;31mSyntaxError\u001b[0m\u001b[0;31m:\u001b[0m invalid syntax\n"
     ]
    }
   ],
   "source": [
    "Q2.\n",
    "Feature\tloc\tiloc\n",
    "Indexing method\tLabel-based (row names, column names)\tInteger-based (indices)\n",
    "Syntax\tdf.loc[row_label, column_label]\tdf.iloc[row_position, column_position]\n",
    "Example\tdf.loc['Machine Learning', 'duration']\tdf.iloc[1, 1]\n",
    "Use case\tSelecting data based on meaningful labels\tSelecting data based on specific positions\n"
   ]
  },
  {
   "cell_type": "code",
   "execution_count": 1,
   "id": "0522fb43-4a85-4cb0-b77c-28237bb6898b",
   "metadata": {},
   "outputs": [
    {
     "ename": "SyntaxError",
     "evalue": "unterminated string literal (detected at line 12) (2091016706.py, line 12)",
     "output_type": "error",
     "traceback": [
      "\u001b[0;36m  Cell \u001b[0;32mIn[1], line 12\u001b[0;36m\u001b[0m\n\u001b[0;31m    .loc[]: This method retrieves data using labels from the DataFrame's index. In this case, loc[2] attempts to find the row with the label 2 in the reindexed DataFrame. Since the reindexed DataFrame has the row with label 3 at index position 2, it returns that row.\u001b[0m\n\u001b[0m                                                                      ^\u001b[0m\n\u001b[0;31mSyntaxError\u001b[0m\u001b[0;31m:\u001b[0m unterminated string literal (detected at line 12)\n"
     ]
    }
   ],
   "source": [
    "Q3.import pandas as pd\n",
    "\n",
    "# Create a sample DataFrame\n",
    "df = pd.DataFrame({'A': [1, 2, 3, 4], 'B': [5, 6, 7, 8], 'C': [9, 10, 11, 12]})\n",
    "\n",
    "# Define the reindexing list\n",
    "reindex = [3, 0, 1, 2]\n",
    "\n",
    "# Reindex the DataFrame and store it in a new variable\n",
    "new_df = df.reindex(reindex)\n",
    "  \n",
    "    .loc[]: This method retrieves data using labels from the DataFrame's index. In this case, loc[2] attempts to find the row with the label 2 in the reindexed DataFrame. Since the reindexed DataFrame has the row with label 3 at index position 2, it returns that row.\n",
    "\n",
    ".iloc[]: This method retrieves data using integer-based positions within the DataFrame. In this case, iloc[2] fetches the element at the second position (index 1) of the reindexed DataFrame, which corresponds to the row with the original label 2.\n",
    "\n"
   ]
  },
  {
   "cell_type": "code",
   "execution_count": 2,
   "id": "7d596f39-935c-4a61-a940-9c57ecc72354",
   "metadata": {},
   "outputs": [
    {
     "ename": "SyntaxError",
     "evalue": "invalid syntax (1920623941.py, line 1)",
     "output_type": "error",
     "traceback": [
      "\u001b[0;36m  Cell \u001b[0;32mIn[2], line 1\u001b[0;36m\u001b[0m\n\u001b[0;31m    Q4.\u001b[0m\n\u001b[0m       ^\u001b[0m\n\u001b[0;31mSyntaxError\u001b[0m\u001b[0;31m:\u001b[0m invalid syntax\n"
     ]
    }
   ],
   "source": [
    "Q4.\n",
    "import pandas as pd\n",
    "import numpy as np\n",
    "\n",
    "# Create a DataFrame\n",
    "columns = ['column_1', 'column_2', 'column_3', 'column_4', 'column_5', 'column_6']\n",
    "indices = [1, 2, 3, 4, 5, 6]\n",
    "df1 = pd.DataFrame(np.random.rand(6, 6), columns=columns, index=indices)\n",
    "\n",
    "# (i) Mean of each column\n",
    "print(\"Mean of each column:\")\n",
    "print(df1.mean())\n",
    "\n",
    "# (ii) Standard deviation of 'column_2'\n",
    "print(\"\\nStandard deviation of 'column_2':\")\n",
    "print(df1['column_2'].std())\n"
   ]
  },
  {
   "cell_type": "code",
   "execution_count": 3,
   "id": "582095f7-9d63-4f6f-ab05-314ae384fdd8",
   "metadata": {},
   "outputs": [
    {
     "ename": "SyntaxError",
     "evalue": "invalid syntax (2590300911.py, line 1)",
     "output_type": "error",
     "traceback": [
      "\u001b[0;36m  Cell \u001b[0;32mIn[3], line 1\u001b[0;36m\u001b[0m\n\u001b[0;31m    Q5.import pandas as pd\u001b[0m\n\u001b[0m       ^\u001b[0m\n\u001b[0;31mSyntaxError\u001b[0m\u001b[0;31m:\u001b[0m invalid syntax\n"
     ]
    }
   ],
   "source": [
    "Q5.import pandas as pd\n",
    "import numpy as np\n",
    "\n",
    "# Create a DataFrame\n",
    "columns = ['column_1', 'column_2', 'column_3', 'column_4', 'column_5', 'column_6']\n",
    "indices = [1, 2, 3, 4, 5, 6]\n",
    "df1 = pd.DataFrame(np.random.rand(6, 6), columns=columns, index=indices)\n",
    "\n",
    "# Replace the data in the second row of 'column_2' with a string\n",
    "replaced_value = \"String value\"\n",
    "try:\n",
    "  df1.loc[2, 'column_2'] = replaced_value\n",
    "  # Calculate the mean of 'column_2' (will result in error)\n",
    "  mean_col2 = df1['column_2'].mean()\n",
    "  print(\"Mean of 'column_2':\", mean_col2)\n",
    "except TypeError as e:\n",
    "  print(\"Error:\", e)\n",
    "  print(\"Explanation: Replacing numeric data with a string in a column prevents calculation of the mean.\")\n",
    "\n"
   ]
  },
  {
   "cell_type": "markdown",
   "id": "04b0113d-fa33-4964-bd2e-e499b4b22646",
   "metadata": {},
   "source": [
    "Q6\n",
    "n pandas, window functions are powerful tools used to perform calculations over a defined \"window\" of rows within a DataFrame or Series. They enable you to analyze data based on related groups or sequences, offering an alternative to traditional looping or complex manipulations. Here's a breakdown of their key aspects:\n",
    "\n",
    "Functionality:\n",
    "\n",
    "Window functions operate on a subset of rows, unlike regular functions that process data element-by-element.\n",
    "They consider neighboring rows within a specified window, allowing you to calculate statistics, moving averages, cumulative sums, and more, for each row in the context of its surrounding data.\n",
    "\n",
    "Types of Window Functions in pandas:\n",
    "\n",
    "Rolling Window Functions:\n",
    "\n",
    "The window size is fixed, and it \"rolls\" along the data, performing the calculation on each window consecutively.\n",
    "Examples: rolling.mean(), rolling.std(), rolling.sum()\n",
    "Expanding Window Functions:\n",
    "\n",
    "The window grows as the function iterates, encompassing all rows from the current row to the beginning of the data.\n",
    "Examples: expanding.mean(), expanding.std(), expanding.sum()\n",
    "Exponentially Weighted Window Functions:\n",
    "\n",
    "Assigns weights to observations within the window, with recent values receiving higher weights, giving more emphasis to recent data points.\n",
    "Example: ewm.mean(), ewm.std(), ewm.sum()"
   ]
  },
  {
   "cell_type": "code",
   "execution_count": 5,
   "id": "00af8700-e510-48f0-b852-b752b555f9d6",
   "metadata": {},
   "outputs": [
    {
     "ename": "NameError",
     "evalue": "name 'Q7' is not defined",
     "output_type": "error",
     "traceback": [
      "\u001b[0;31m---------------------------------------------------------------------------\u001b[0m",
      "\u001b[0;31mNameError\u001b[0m                                 Traceback (most recent call last)",
      "Cell \u001b[0;32mIn[5], line 1\u001b[0m\n\u001b[0;32m----> 1\u001b[0m \u001b[43mQ7\u001b[49m\n\u001b[1;32m      3\u001b[0m \u001b[38;5;28;01mimport\u001b[39;00m \u001b[38;5;21;01mpandas\u001b[39;00m \u001b[38;5;28;01mas\u001b[39;00m \u001b[38;5;21;01mpd\u001b[39;00m\n\u001b[1;32m      5\u001b[0m \u001b[38;5;66;03m# Get the current date and time\u001b[39;00m\n",
      "\u001b[0;31mNameError\u001b[0m: name 'Q7' is not defined"
     ]
    }
   ],
   "source": [
    "Q7\n",
    "\n",
    "import pandas as pd\n",
    "\n",
    "# Get the current date and time\n",
    "now = pd.Timestamp.now()\n",
    "\n",
    "# Extract the month and year\n",
    "month = now.month_name()\n",
    "year = now.year\n",
    "\n",
    "# Print the month and year\n",
    "print(f\"Current month: {month}\")\n",
    "print(f\"Current year: {year}\")\n"
   ]
  },
  {
   "cell_type": "code",
   "execution_count": 8,
   "id": "5d9ce393-e6ba-407b-9792-d20a8f36fab1",
   "metadata": {},
   "outputs": [
    {
     "ename": "NameError",
     "evalue": "name 'Q8' is not defined",
     "output_type": "error",
     "traceback": [
      "\u001b[0;31m---------------------------------------------------------------------------\u001b[0m",
      "\u001b[0;31mNameError\u001b[0m                                 Traceback (most recent call last)",
      "Cell \u001b[0;32mIn[8], line 1\u001b[0m\n\u001b[0;32m----> 1\u001b[0m \u001b[43mQ8\u001b[49m\n\u001b[1;32m      3\u001b[0m \u001b[38;5;28;01mimport\u001b[39;00m \u001b[38;5;21;01mpandas\u001b[39;00m \u001b[38;5;28;01mas\u001b[39;00m \u001b[38;5;21;01mpd\u001b[39;00m\n\u001b[1;32m      5\u001b[0m \u001b[38;5;28;01mdef\u001b[39;00m \u001b[38;5;21mcalculate_date_difference\u001b[39m():\n",
      "\u001b[0;31mNameError\u001b[0m: name 'Q8' is not defined"
     ]
    }
   ],
   "source": [
    "Q8\n",
    "\n",
    "import pandas as pd\n",
    "\n",
    "def calculate_date_difference():\n",
    "  \"\"\"\n",
    "  This function prompts the user for two dates, calculates the difference in days, hours, and minutes using pandas time delta, and displays the results.\n",
    "  \"\"\"\n",
    "\n",
    "  try:\n",
    "    # Prompt the user for the first date\n",
    "    date1_str = input(\"Enter the first date (YYYY-MM-DD): \")\n",
    "\n",
    "    # Convert the first date string to a datetime object\n",
    "    date1 = pd.to_datetime(date1_str)\n",
    "\n",
    "    # Prompt the user for the second date\n",
    "    date2_str = input(\"Enter the second date (YYYY-MM-DD): \")\n",
    "\n",
    "    # Convert the second date string to a datetime object\n",
    "    date2 = pd.to_datetime(date2_str)\n",
    "\n",
    "    # Calculate the time delta\n",
    "    time_delta = date2 - date1\n",
    "\n",
    "    # Extract days, hours, and minutes\n",
    "    days = time_delta.days\n",
    "    hours = time_delta.seconds // 3600\n",
    "    minutes = (time_delta.seconds % 3600) // 60\n",
    "\n",
    "    # Print the results\n",
    "    print(f\"\\nDifference between dates:\")\n",
    "    print(f\"Days: {days}\")\n",
    "    print(f\"Hours: {hours}\")\n",
    "    print(f\"Minutes: {minutes}\")\n",
    "\n",
    "  except ValueError:\n",
    "    print(\"Invalid date format. Please enter dates in the format YYYY-MM-DD.\")\n",
    "\n",
    "if __name__ == \"__main__\":\n",
    "  calculate_date_difference()\n"
   ]
  },
  {
   "cell_type": "code",
   "execution_count": 10,
   "id": "8a449c83-babf-442a-8942-1cecae32d057",
   "metadata": {},
   "outputs": [
    {
     "ename": "NameError",
     "evalue": "name 'Q9' is not defined",
     "output_type": "error",
     "traceback": [
      "\u001b[0;31m---------------------------------------------------------------------------\u001b[0m",
      "\u001b[0;31mNameError\u001b[0m                                 Traceback (most recent call last)",
      "Cell \u001b[0;32mIn[10], line 1\u001b[0m\n\u001b[0;32m----> 1\u001b[0m \u001b[43mQ9\u001b[49m\n\u001b[1;32m      2\u001b[0m \u001b[38;5;28;01mimport\u001b[39;00m \u001b[38;5;21;01mpandas\u001b[39;00m \u001b[38;5;28;01mas\u001b[39;00m \u001b[38;5;21;01mpd\u001b[39;00m\n\u001b[1;32m      4\u001b[0m \u001b[38;5;28;01mdef\u001b[39;00m \u001b[38;5;21mconvert_to_categorical\u001b[39m(file_path, column_name, categories):\n",
      "\u001b[0;31mNameError\u001b[0m: name 'Q9' is not defined"
     ]
    }
   ],
   "source": [
    "Q9\n",
    "import pandas as pd\n",
    "\n",
    "def convert_to_categorical(file_path, column_name, categories):\n",
    "  \"\"\"\n",
    "  This function reads a CSV file, converts a specified column to a categorical data type, and displays the sorted data.\n",
    "\n",
    "  Args:\n",
    "      file_path (str): Path to the CSV file.\n",
    "      column_name (str): Name of the column to convert.\n",
    "      categories (list): List of categories in the desired order.\n",
    "  \"\"\"\n",
    "\n",
    "  try:\n",
    "    # Read the CSV file\n",
    "    df = pd.read_csv(file_path)\n",
    "\n",
    "    # Check if the column exists\n",
    "    if column_name not in df.columns:\n",
    "      print(f\"Error: Column '{column_name}' does not exist in the CSV file.\")\n",
    "      return\n",
    "\n",
    "    # Convert the column to categorical data type with specified categories\n",
    "    df[column_name] = pd.Categorical(df[column_name], categories=categories)\n",
    "\n",
    "    # Sort the DataFrame\n",
    "    sorted_df = df.sort_values(by=[column_name])\n",
    "\n",
    "    # Display the sorted DataFrame\n",
    "    print(\"\\nSorted data:\")\n",
    "    print(sorted_df.to_string(index=False))\n",
    "\n",
    "  except FileNotFoundError:\n",
    "    print(\"Error: File not found at the specified path.\")\n",
    "\n",
    "if __name__ == \"__main__\":\n",
    "  # Prompt the user for input\n",
    "  file_path = input(\"Enter the CSV file path: \")\n",
    "  column_name = input(\"Enter the column name: \")\n",
    "  category_order = input(\"Enter the category order separated by commas (no spaces): \").split(\",\")\n",
    "\n",
    "  # Convert the category order to a list\n",
    "  categories = [cat.strip() for cat in category_order]\n",
    "\n",
    "  # Call the function\n",
    "  convert_to_categorical(file_path, column_name, categories)\n"
   ]
  },
  {
   "cell_type": "code",
   "execution_count": 11,
   "id": "298b4ed0-6c56-44bb-b56b-b4ad7eae0319",
   "metadata": {},
   "outputs": [
    {
     "ename": "NameError",
     "evalue": "name 'Q10' is not defined",
     "output_type": "error",
     "traceback": [
      "\u001b[0;31m---------------------------------------------------------------------------\u001b[0m",
      "\u001b[0;31mNameError\u001b[0m                                 Traceback (most recent call last)",
      "Cell \u001b[0;32mIn[11], line 1\u001b[0m\n\u001b[0;32m----> 1\u001b[0m \u001b[43mQ10\u001b[49m\n\u001b[1;32m      2\u001b[0m \u001b[38;5;28;01mimport\u001b[39;00m \u001b[38;5;21;01mpandas\u001b[39;00m \u001b[38;5;28;01mas\u001b[39;00m \u001b[38;5;21;01mpd\u001b[39;00m\n\u001b[1;32m      3\u001b[0m \u001b[38;5;28;01mimport\u001b[39;00m \u001b[38;5;21;01mmatplotlib\u001b[39;00m\u001b[38;5;21;01m.\u001b[39;00m\u001b[38;5;21;01mpyplot\u001b[39;00m \u001b[38;5;28;01mas\u001b[39;00m \u001b[38;5;21;01mplt\u001b[39;00m\n",
      "\u001b[0;31mNameError\u001b[0m: name 'Q10' is not defined"
     ]
    }
   ],
   "source": [
    "Q10\n",
    "import pandas as pd\n",
    "import matplotlib.pyplot as plt\n",
    "\n",
    "def visualize_sales_data(file_path):\n",
    "  \"\"\"\n",
    "  This function reads a CSV file containing sales data, groups it by product category and year, and displays a stacked bar chart of sales over time.\n",
    "\n",
    "  Args:\n",
    "      file_path (str): Path to the CSV file.\n",
    "  \"\"\"\n",
    "\n",
    "  try:\n",
    "    # Read the CSV file\n",
    "    df = pd.read_csv(file_path)\n",
    "\n",
    "    # Check if necessary columns exist\n",
    "    required_cols = [\"product_category\", \"year\", \"sales\"]\n",
    "    if not all(col in df.columns for col in required_cols):\n",
    "      print(f\"Error: Missing required columns: {', '.join(required_cols)}\")\n",
    "      return\n",
    "\n",
    "    # Group data by product category and year, sum sales\n",
    "    grouped_data = df.groupby([\"product_category\", \"year\"])[\"sales\"].sum().unstack()\n",
    "\n",
    "    # Create the stacked bar chart\n",
    "    grouped_data.plot.bar(stacked=True, figsize=(10, 6))\n",
    "    plt.xlabel(\"Year\")\n",
    "    plt.ylabel(\"Sales\")\n",
    "    plt.title(\"Sales by Product Category\")\n",
    "    plt.legend(title=\"Product Category\", loc=\"upper left\", bbox_to_anchor=(1, 1))\n",
    "    plt.xticks(rotation=45, ha=\"right\")  # Rotate x-axis labels for better readability\n",
    "    plt.tight_layout()\n",
    "    plt.show()\n",
    "\n",
    "  except FileNotFoundError:\n",
    "    print(\"Error: File not found at the specified path.\")\n",
    "\n",
    "if __name__ == \"__main__\":\n",
    "  # Prompt the user for the file path\n",
    "  file_path = input(\"Enter the CSV file path: \")\n",
    "\n",
    "  # Call the function\n",
    "  visualize_sales_data(file_path)\n"
   ]
  },
  {
   "cell_type": "code",
   "execution_count": 12,
   "id": "511581d7-a067-44ea-b318-6aeb5c1c000f",
   "metadata": {},
   "outputs": [
    {
     "ename": "NameError",
     "evalue": "name 'q11' is not defined",
     "output_type": "error",
     "traceback": [
      "\u001b[0;31m---------------------------------------------------------------------------\u001b[0m",
      "\u001b[0;31mNameError\u001b[0m                                 Traceback (most recent call last)",
      "Cell \u001b[0;32mIn[12], line 1\u001b[0m\n\u001b[0;32m----> 1\u001b[0m \u001b[43mq11\u001b[49m\n\u001b[1;32m      2\u001b[0m \u001b[38;5;28;01mimport\u001b[39;00m \u001b[38;5;21;01mpandas\u001b[39;00m \u001b[38;5;28;01mas\u001b[39;00m \u001b[38;5;21;01mpd\u001b[39;00m\n\u001b[1;32m      4\u001b[0m \u001b[38;5;28;01mdef\u001b[39;00m \u001b[38;5;21manalyze_student_data\u001b[39m(file_path):\n",
      "\u001b[0;31mNameError\u001b[0m: name 'q11' is not defined"
     ]
    }
   ],
   "source": [
    "q11\n",
    "import pandas as pd\n",
    "\n",
    "def analyze_student_data(file_path):\n",
    "  \"\"\"\n",
    "  This function reads a CSV file containing student data, calculates the mean, median, and mode of the test scores, and displays the results in a table.\n",
    "\n",
    "  Args:\n",
    "      file_path (str): Path to the CSV file.\n",
    "  \"\"\"\n",
    "\n",
    "  try:\n",
    "    # Read the CSV file\n",
    "    df = pd.read_csv(file_path)\n",
    "\n",
    "    # Check if necessary columns exist\n",
    "    required_cols = [\"student_id\", \"test_score\"]\n",
    "    if not all(col in df.columns for col in required_cols):\n",
    "      print(f\"Error: Missing required columns: {', '.join(required_cols)}\")\n",
    "      return\n",
    "\n",
    "    # Calculate statistics\n",
    "    mean_score = df[\"test_score\"].mean()\n",
    "    median_score = df[\"test_score\"].median()\n",
    "    mode_score = df[\"test_score\"].mode()[0]  # Assuming there's a single mode\n",
    "\n",
    "    # Create a table with results\n",
    "    table = pd.DataFrame({\n",
    "        \"Statistic\": [\"Mean\", \"Median\", \"Mode\"],\n",
    "        \"Value\": [mean_score, median_score, mode_score]\n",
    "    })\n",
    "\n",
    "    # Print the table\n",
    "    print(table.to_string(index=False))\n",
    "\n",
    "  except FileNotFoundError:\n",
    "    print(\"Error: File not found at the specified path.\")\n",
    "\n",
    "if __name__ == \"__main__\":\n",
    "  # Prompt the user for the file path\n",
    "  file_path = input(\"Enter the CSV file path: \")\n",
    "\n",
    "  # Call the function\n",
    "  analyze_student_data(file_path)\n"
   ]
  },
  {
   "cell_type": "code",
   "execution_count": null,
   "id": "f3fd0b9b-35b3-4b44-be68-7bf0578c025c",
   "metadata": {},
   "outputs": [],
   "source": []
  }
 ],
 "metadata": {
  "kernelspec": {
   "display_name": "Python 3 (ipykernel)",
   "language": "python",
   "name": "python3"
  },
  "language_info": {
   "codemirror_mode": {
    "name": "ipython",
    "version": 3
   },
   "file_extension": ".py",
   "mimetype": "text/x-python",
   "name": "python",
   "nbconvert_exporter": "python",
   "pygments_lexer": "ipython3",
   "version": "3.10.8"
  }
 },
 "nbformat": 4,
 "nbformat_minor": 5
}
