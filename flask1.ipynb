{
 "cells": [
  {
   "cell_type": "markdown",
   "id": "8098efee-5c1b-4ab3-a09b-9c22731cbd1d",
   "metadata": {},
   "source": [
    "Q1.   lask is a microframework for building web applications in Python. It's known for its:\n",
    "\n",
    "Minimalism: Provides a lightweight core, letting you choose and integrate additional libraries as needed.\n",
    "Flexibility: Highly adaptable to different project requirements and allows for custom development.\n",
    "Simplicity: Easy to learn and use, perfect for beginners and experienced developers alike.\n",
    "\n",
    "\n",
    "Advantages of Using Flask:\n",
    "\n",
    "Fast Development: Quick prototyping and iterative development due to its simplicity.\n",
    "Minimalist Footprint: Lower resource usage compared to larger frameworks, ideal for smaller projects.\n",
    "Highly Customizable: Adapt it to your specific needs and integrate with existing libraries and tools.\n",
    "Scalable: Can handle both simple and complex web applications with ease."
   ]
  },
  {
   "cell_type": "markdown",
   "id": "46f16d2a-3566-4b3c-afb7-f6d6be295dff",
   "metadata": {},
   "source": [
    "Q2.  from flask import Flask\n",
    "\n",
    "app = Flask(__name__)\n",
    "\n",
    "@app.route(\"/\")  # Root route\n",
    "def hello_world():\n",
    "    return \"Hello World!!\"\n",
    "\n",
    "if __name__ == \"__main__\":\n",
    "    app.run(host='0.0.0.0', port=8080)  # Run on all available IPs, port 8080\n",
    "    \n",
    "    \n",
    "    \n",
    "    \n",
    "    \n",
    "    \n"
   ]
  },
  {
   "cell_type": "markdown",
   "id": "1be33b29-97bb-4acb-97fe-b351cc54d0bc",
   "metadata": {},
   "source": [
    "Q3.\n",
    "\n",
    "App routing in Flask is the mechanism that maps URLs to specific Python functions within your application. It's the core concept that directs incoming requests to the appropriate parts of your code to generate responses.\n",
    "\n",
    "Why we use app routes:\n",
    "\n",
    "Organizing Code: Routes compartmentalize your application's logic, making it more modular and maintainable. Each route handles a specific URL path and its associated actions.\n",
    "Dynamic Content: Routes enable dynamic content generation based on user input, URL parameters, and other factors, allowing for interactive and personalized experiences."
   ]
  },
  {
   "cell_type": "markdown",
   "id": "93e420a5-ab24-4722-8a82-bc9c0a955355",
   "metadata": {},
   "source": [
    "Q4.\n",
    "from flask import Flask, render_template\n",
    "\n",
    "app = Flask(__name__)\n",
    "\n",
    "@app.route(\"/welcome\")\n",
    "def welcome():\n",
    "    # Return welcome message directly\n",
    "    return \"Welcome to ABC Corporation!\"\n",
    "\n",
    "@app.route(\"/\")\n",
    "def home():\n",
    "    # Prepare dictionary with company details\n",
    "    company_details = {\n",
    "        \"name\": \"ABC Corporation\",\n",
    "        \"location\": \"India\",\n",
    "        \"contact\": \"999-999-9999\",\n",
    "    }\n",
    "    # Render HTML template with details\n",
    "    return render_template(\"index.html\", company_details=company_details)\n",
    "\n",
    "if __name__ == \"__main__\":\n",
    "    app.run(debug=True)  # Run app in debug mode (optional)\n",
    "\n",
    "\n"
   ]
  },
  {
   "cell_type": "code",
   "execution_count": null,
   "id": "d467a8f4-04ee-40ee-9c5c-f2474570109f",
   "metadata": {},
   "outputs": [],
   "source": [
    "Q5.\n"
   ]
  }
 ],
 "metadata": {
  "kernelspec": {
   "display_name": "Python 3 (ipykernel)",
   "language": "python",
   "name": "python3"
  },
  "language_info": {
   "codemirror_mode": {
    "name": "ipython",
    "version": 3
   },
   "file_extension": ".py",
   "mimetype": "text/x-python",
   "name": "python",
   "nbconvert_exporter": "python",
   "pygments_lexer": "ipython3",
   "version": "3.10.8"
  }
 },
 "nbformat": 4,
 "nbformat_minor": 5
}
