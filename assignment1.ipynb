{
 "cells": [
  {
   "cell_type": "code",
   "execution_count": 3,
   "id": "2ab3bb9d",
   "metadata": {},
   "outputs": [],
   "source": [
    "# Q1 answer"
   ]
  },
  {
   "cell_type": "code",
   "execution_count": 22,
   "id": "3f90a07d",
   "metadata": {},
   "outputs": [],
   "source": [
    "string=\"my name is aditya\"\n",
    "float=13.52\n",
    "list=[1,2,3,4,\"aditya\",13.25]\n",
    "tuple=(\"car\",\"bike\")\n"
   ]
  },
  {
   "cell_type": "code",
   "execution_count": 24,
   "id": "0aaa556f",
   "metadata": {},
   "outputs": [],
   "source": [
    "# Q.2 answer"
   ]
  },
  {
   "cell_type": "code",
   "execution_count": 28,
   "id": "85585dc2",
   "metadata": {},
   "outputs": [],
   "source": [
    "#  var1 = ‘ ‘ = it is string\n",
    "# var2 = ‘[ DS , ML , Python]’ = it is string which contain list\n",
    "#  var3 = [ ‘DS’ , ’ML’ , ‘Python’ ] = it is a list\n",
    "#  var4 = 1. it is a int or float."
   ]
  },
  {
   "cell_type": "code",
   "execution_count": 2,
   "id": "5438fbf2",
   "metadata": {},
   "outputs": [
    {
     "name": "stdout",
     "output_type": "stream",
     "text": [
      "3.3333333333333335\n"
     ]
    }
   ],
   "source": [
    "# Q3 answer\n",
    "a=3\n",
    "b=10\n",
    "c=b/a\n",
    "print(c)"
   ]
  },
  {
   "cell_type": "code",
   "execution_count": 3,
   "id": "63cc5a9c",
   "metadata": {},
   "outputs": [
    {
     "name": "stdout",
     "output_type": "stream",
     "text": [
      "1\n"
     ]
    }
   ],
   "source": [
    "a=5\n",
    "b=11\n",
    "c=b%a\n",
    "print(c)"
   ]
  },
  {
   "cell_type": "code",
   "execution_count": 4,
   "id": "df9dd409",
   "metadata": {},
   "outputs": [
    {
     "name": "stdout",
     "output_type": "stream",
     "text": [
      "2\n"
     ]
    }
   ],
   "source": [
    "a=5\n",
    "b=10\n",
    "c=b//a\n",
    "print(c)"
   ]
  },
  {
   "cell_type": "code",
   "execution_count": 5,
   "id": "4550f82c",
   "metadata": {},
   "outputs": [
    {
     "data": {
      "text/plain": [
       "8"
      ]
     },
     "execution_count": 5,
     "metadata": {},
     "output_type": "execute_result"
    }
   ],
   "source": [
    "2**3"
   ]
  },
  {
   "cell_type": "code",
   "execution_count": 27,
   "id": "990e7c79",
   "metadata": {},
   "outputs": [
    {
     "name": "stdout",
     "output_type": "stream",
     "text": [
      "1-<class 'int'>\n",
      "2-<class 'int'>\n",
      "3-<class 'int'>\n",
      "4-<class 'int'>\n",
      "5-<class 'int'>\n",
      "6-<class 'int'>\n",
      "7-<class 'int'>\n",
      "aditya-<class 'str'>\n",
      "33.54-<class 'float'>\n",
      "open-<class 'str'>\n"
     ]
    }
   ],
   "source": [
    "# Q4 answer\n",
    "mylist=[1,2,3,4,5,6,7,\"aditya\",33.54,\"open\"]\n",
    "for i in mylist:\n",
    "       print(f\"{i}-{type(i)}\")"
   ]
  },
  {
   "cell_type": "code",
   "execution_count": 17,
   "id": "97a5c554",
   "metadata": {},
   "outputs": [
    {
     "name": "stdout",
     "output_type": "stream",
     "text": [
      "1\n"
     ]
    }
   ],
   "source": [
    "# Q5 answer\n",
    "a=10\n",
    "b=5\n",
    "i=0\n",
    "while(a%b==0):\n",
    "   a/=b\n",
    "i=i+1\n",
    "if i>0:\n",
    "        print(i)\n",
    "    "
   ]
  },
  {
   "cell_type": "code",
   "execution_count": 20,
   "id": "6503c2e3",
   "metadata": {},
   "outputs": [
    {
     "name": "stdout",
     "output_type": "stream",
     "text": [
      "2 is not divided by 3\n",
      "4 is not divided by 3\n",
      "6 is divided by 3\n",
      "8 is not divided by 3\n",
      "10 is not divided by 3\n",
      "12 is divided by 3\n",
      "14 is not divided by 3\n",
      "16 is not divided by 3\n",
      "18 is divided by 3\n",
      "20 is not divided by 3\n",
      "21 is divided by 3\n",
      "22 is not divided by 3\n",
      "23 is not divided by 3\n",
      "24 is divided by 3\n",
      "25 is not divided by 3\n",
      "26 is not divided by 3\n",
      "27 is divided by 3\n",
      "28 is not divided by 3\n",
      "29 is not divided by 3\n",
      "30 is divided by 3\n",
      "1 is not divided by 3\n",
      "3 is divided by 3\n",
      "5 is not divided by 3\n",
      "7 is not divided by 3\n",
      "9 is divided by 3\n"
     ]
    }
   ],
   "source": [
    "# Q6 answer\n",
    "mylist=[2,4,6,8,10,12,14,16,18,20,21,22,23,24,25,26,27,28,29,30,1,3,5,7,9]\n",
    "for i in mylist:\n",
    "    if i%3==0:\n",
    "        print(f\"{i} is divided by 3\")\n",
    "    else:\n",
    "        print(f\"{i} is not divided by 3\")\n",
    "            "
   ]
  },
  {
   "cell_type": "code",
   "execution_count": 27,
   "id": "563fdace",
   "metadata": {},
   "outputs": [
    {
     "data": {
      "text/plain": [
       "[1, 2, 200, 'aditya']"
      ]
     },
     "execution_count": 27,
     "metadata": {},
     "output_type": "execute_result"
    }
   ],
   "source": [
    "# Q7 answer\n",
    "# mutable data types are those which allow to change or overwrite thorought there index.\n",
    "# immutable data types are those which doesn't allow to change or overwrite\n",
    "l=[1,2,3,\"aditya\"]\n",
    "l[2]=200\n",
    "l\n"
   ]
  },
  {
   "cell_type": "code",
   "execution_count": 26,
   "id": "30b89e22",
   "metadata": {},
   "outputs": [
    {
     "ename": "TypeError",
     "evalue": "'str' object does not support item assignment",
     "output_type": "error",
     "traceback": [
      "\u001b[1;31m---------------------------------------------------------------------------\u001b[0m",
      "\u001b[1;31mTypeError\u001b[0m                                 Traceback (most recent call last)",
      "Cell \u001b[1;32mIn[26], line 2\u001b[0m\n\u001b[0;32m      1\u001b[0m s\u001b[38;5;241m=\u001b[39m\u001b[38;5;124m\"\u001b[39m\u001b[38;5;124maditya\u001b[39m\u001b[38;5;124m\"\u001b[39m\n\u001b[1;32m----> 2\u001b[0m s[\u001b[38;5;241m4\u001b[39m]\u001b[38;5;241m=\u001b[39ma\n",
      "\u001b[1;31mTypeError\u001b[0m: 'str' object does not support item assignment"
     ]
    }
   ],
   "source": [
    "s=\"aditya\"\n",
    "s[4]=a"
   ]
  },
  {
   "cell_type": "code",
   "execution_count": null,
   "id": "35cae4d2",
   "metadata": {},
   "outputs": [],
   "source": []
  }
 ],
 "metadata": {
  "kernelspec": {
   "display_name": "Python 3 (ipykernel)",
   "language": "python",
   "name": "python3"
  },
  "language_info": {
   "codemirror_mode": {
    "name": "ipython",
    "version": 3
   },
   "file_extension": ".py",
   "mimetype": "text/x-python",
   "name": "python",
   "nbconvert_exporter": "python",
   "pygments_lexer": "ipython3",
   "version": "3.10.9"
  }
 },
 "nbformat": 4,
 "nbformat_minor": 5
}
