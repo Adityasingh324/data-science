{
 "cells": [
  {
   "cell_type": "code",
   "execution_count": 2,
   "id": "05e1d562-b8ab-4a51-b21d-460ba2ef8d87",
   "metadata": {},
   "outputs": [],
   "source": [
    "#q1  Abstraction is a fundamental concept in object-oriented programming (OOP) that focuses on simplifying complex reality by modeling classes, objects, and their interactions in a way that hides unnecessary details while exposing only relevant information. It involves creating a simplified representation of an entity, emphasizing its essential characteristics and behaviors while suppressing its less important or intricate aspects.\n",
    "\n",
    "\n",
    "import abc\n",
    "class pwskills:\n",
    "    @abc.abstractmethod\n",
    "    def student_details(self):\n",
    "        pass\n",
    "    @abc.abstractmethod\n",
    "    def student_assingment(self):\n",
    "        pass\n",
    "    @abc.abstractmethod\n",
    "    def student_marks(self):\n",
    "        pass"
   ]
  },
  {
   "cell_type": "code",
   "execution_count": 3,
   "id": "3f94afcf-d9e3-4fdf-abcc-285783403662",
   "metadata": {},
   "outputs": [],
   "source": [
    "#q2   Abstraction:\n",
    "#Abstraction is the process of simplifying complex reality by modeling classes, objects, and their interactions in a way that hides unnecessary details while exposing only relevant information. It is about creating a higher-level view of an entity by defining its essential attributes and behaviors while ignoring the low-level implementation details.\n",
    "\n",
    "#Encapsulation:\n",
    "#Encapsulation is the practice of bundling the data (attributes) and methods (behaviors) that operate on the data into a single unit, called a class. It enforces the idea that the internal state of an object should not be directly accessible from outside the class; instead, interactions with the object should occur through well-defined interfaces (public methods).\n",
    "\n",
    "#abstraction\n",
    "class Shape:\n",
    "    def area(self):\n",
    "        raise NotImplementedError(\"Subclasses must implement this method\")\n",
    "\n",
    "    def perimeter(self):\n",
    "        raise NotImplementedError(\"Subclasses must implement this method\")\n"
   ]
  },
  {
   "cell_type": "code",
   "execution_count": 4,
   "id": "81c6515e-44b5-48db-8ecf-92329e036061",
   "metadata": {},
   "outputs": [],
   "source": [
    "#encapsulation\n",
    "\n",
    "class Circle:\n",
    "    def __init__(self, radius):\n",
    "        self.__radius = radius\n",
    "\n",
    "    def get_radius(self):\n",
    "        return self.__radius\n",
    "\n",
    "    def set_radius(self, radius):\n",
    "        if radius > 0:\n",
    "            self.__radius = radius\n",
    "        else:\n",
    "            print(\"Radius must be positive\")\n",
    "\n",
    "    def area(self):\n",
    "        return 3.14 * self.__radius ** 2\n",
    "\n",
    "    def perimeter(self):\n",
    "        return 2 * 3.14 * self.__radius\n"
   ]
  },
  {
   "cell_type": "code",
   "execution_count": 5,
   "id": "9171c3dd-7cfc-4f2d-83d6-815965d3a067",
   "metadata": {},
   "outputs": [],
   "source": [
    "#q3  The abc module in Python stands for \"Abstract Base Classes.\" It provides mechanisms for defining abstract base classes (ABCs) and abstract methods. Abstract base classes are classes that are meant to be subclassed and extended by concrete classes, enforcing a certain structure and behavior in those concrete subclasses. This module is part of Python's standard library and is particularly useful for implementing interfaces and ensuring that certain methods are implemented in subclasses.\n",
    "\n",
    "import abc\n",
    "class pwskills:\n",
    "    @abc.abstractmethod\n",
    "    def student_details(self):\n",
    "        pass\n",
    "    @abc.abstractmethod\n",
    "    def student_assingment(self):\n",
    "        pass\n",
    "    @abc.abstractmethod\n",
    "    def student_marks(self):\n",
    "        pass"
   ]
  },
  {
   "cell_type": "code",
   "execution_count": 6,
   "id": "a1ae6b76-7dbf-4f72-bea4-554d1330a134",
   "metadata": {},
   "outputs": [],
   "source": [
    "#q4 Define Abstract Classes: Abstract classes are classes that cannot be instantiated and may contain abstract methods. Abstract methods are declared without providing an implementation. These methods act as placeholders that must be implemented by concrete subclasses.\n",
    "\n",
    "#Declare Abstract Methods: Abstract methods define the interface that subclasses must adhere to. These methods don't have an implementation in the abstract class; they are meant to be overridden in the subclasses.\n",
    "\n",
    "#Use Access Control: Python provides access control mechanisms using naming conventions. By convention, attributes and methods intended for internal use are prefixed with a single underscore (_). Attributes and methods that are considered private and not meant to be accessed externally are prefixed with double underscores (__)."
   ]
  },
  {
   "cell_type": "code",
   "execution_count": null,
   "id": "6f4c9b52-f64b-4aea-8d49-ed73dd3d3072",
   "metadata": {},
   "outputs": [],
   "source": [
    "#Q5  "
   ]
  }
 ],
 "metadata": {
  "kernelspec": {
   "display_name": "Python 3 (ipykernel)",
   "language": "python",
   "name": "python3"
  },
  "language_info": {
   "codemirror_mode": {
    "name": "ipython",
    "version": 3
   },
   "file_extension": ".py",
   "mimetype": "text/x-python",
   "name": "python",
   "nbconvert_exporter": "python",
   "pygments_lexer": "ipython3",
   "version": "3.10.8"
  }
 },
 "nbformat": 4,
 "nbformat_minor": 5
}
