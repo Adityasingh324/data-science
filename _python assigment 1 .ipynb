{
 "cells": [
  {
   "cell_type": "code",
   "execution_count": 3,
   "id": "585474dd-f595-4837-8d94-63d3db91dd94",
   "metadata": {},
   "outputs": [],
   "source": [
    "#q1 def is used to create function.\n",
    "\n",
    "def get_odd_numbers():\n",
    "    odd_numbers = [num for num in range(1, 26) if num % 2 != 0]\n",
    "    return odd_numbers"
   ]
  },
  {
   "cell_type": "code",
   "execution_count": 6,
   "id": "4d81f1ab-5e65-4780-bd2b-e87415932380",
   "metadata": {},
   "outputs": [
    {
     "name": "stdout",
     "output_type": "stream",
     "text": [
      "6\n",
      "100\n",
      "5\n",
      "name: Alice\n",
      "age: 30\n",
      "city: New York\n"
     ]
    }
   ],
   "source": [
    "#q2 *args and **kwargs are used as special syntax in function definitions to allow the function to accept a variable number of arguments.\n",
    "def sum_numbers(*args):\n",
    "    total = 0\n",
    "    for num in args:\n",
    "        total += num\n",
    "    return total\n",
    "\n",
    "print(sum_numbers(1, 2, 3))        \n",
    "print(sum_numbers(10, 20, 30, 40))  \n",
    "print(sum_numbers(5))              \n",
    " #2.2\n",
    "def print_person_info(**kwargs):\n",
    "    for key, value in kwargs.items():\n",
    "        print(f\"{key}: {value}\")\n",
    "\n",
    "\n",
    "print_person_info(name=\"Alice\", age=30, city=\"New York\")\n"
   ]
  },
  {
   "cell_type": "code",
   "execution_count": 7,
   "id": "a398e070-db24-4e26-8fd4-4c4e47a3d601",
   "metadata": {},
   "outputs": [
    {
     "name": "stdout",
     "output_type": "stream",
     "text": [
      "2\n",
      "4\n",
      "6\n",
      "8\n",
      "10\n"
     ]
    }
   ],
   "source": [
    "#q3, an iterator is an object that allows you to iterate (loop) over a sequence of elements, such as lists, tuples, dictionaries, etc. It provides two main methods: __iter__() and __next__(), which are used for initializing the iterator object and for iteration, respectively.\n",
    "\n",
    "\n",
    "my_list = [2, 4, 6, 8, 10, 12, 14, 16, 18, 20]\n",
    "\n",
    "\n",
    "my_iterator = iter(my_list)\n",
    "\n",
    "\n",
    "for _ in range(5):\n",
    "    element = next(my_iterator)\n",
    "    print(element)\n"
   ]
  },
  {
   "cell_type": "code",
   "execution_count": 8,
   "id": "2ff0a9c7-4cf3-425c-aa8e-ce6280393cff",
   "metadata": {},
   "outputs": [
    {
     "name": "stdout",
     "output_type": "stream",
     "text": [
      "1\n",
      "2\n",
      "3\n",
      "4\n",
      "5\n"
     ]
    }
   ],
   "source": [
    "#q4  A generator function is a special type of function that returns an iterator called a generator. \n",
    "#   The yield keyword is used in generator functions to produce a value to the caller and, crucially, to retain the function's internal state.\n",
    "\n",
    "def count_up_to(max_num):\n",
    "    num = 1\n",
    "    while num <= max_num:\n",
    "        yield num\n",
    "        num += 1\n",
    "\n",
    "generator = count_up_to(5)\n",
    "\n",
    "for num in generator:\n",
    "    print(num)\n"
   ]
  },
  {
   "cell_type": "code",
   "execution_count": 9,
   "id": "d3d00a9d-2b63-4e16-864f-99f84b9306c8",
   "metadata": {},
   "outputs": [
    {
     "name": "stdout",
     "output_type": "stream",
     "text": [
      "2\n",
      "3\n",
      "5\n",
      "7\n",
      "11\n",
      "13\n",
      "17\n",
      "19\n",
      "23\n",
      "29\n",
      "31\n",
      "37\n",
      "41\n",
      "43\n",
      "47\n",
      "53\n",
      "59\n",
      "61\n",
      "67\n",
      "71\n"
     ]
    }
   ],
   "source": [
    "#q5 \n",
    "def is_prime(number):\n",
    "    if number < 2:\n",
    "        return False\n",
    "    for i in range(2, int(number**0.5) + 1):\n",
    "        if number % i == 0:\n",
    "            return False\n",
    "    return True\n",
    "\n",
    "def prime_generator():\n",
    "    num = 2\n",
    "    while num < 1000:\n",
    "        if is_prime(num):\n",
    "            yield num\n",
    "        num += 1\n",
    "\n",
    "generator = prime_generator()\n",
    "\n",
    "for _ in range(20):\n",
    "    prime_number = next(generator)\n",
    "    print(prime_number)\n"
   ]
  },
  {
   "cell_type": "code",
   "execution_count": 11,
   "id": "3c72b9ed-eee8-4211-af0a-73639b10eda7",
   "metadata": {},
   "outputs": [
    {
     "name": "stdout",
     "output_type": "stream",
     "text": [
      "[0, 1, 1, 2, 3, 5, 8, 13, 21, 34]\n"
     ]
    }
   ],
   "source": [
    "#q6\n",
    "def fibonacci_sequence(n):\n",
    "    fib_sequence = []\n",
    "    a, b = 0, 1\n",
    "\n",
    "    while len(fib_sequence) < n:\n",
    "        fib_sequence.append(a)\n",
    "        a, b = b, a + b\n",
    "\n",
    "    return fib_sequence\n",
    "\n",
    "# Using the function to print the first 10 Fibonacci numbers\n",
    "fibonacci_numbers = fibonacci_sequence(10)\n",
    "print(fibonacci_numbers)\n"
   ]
  },
  {
   "cell_type": "code",
   "execution_count": 13,
   "id": "ae0e90d7-5bc3-43bd-bbe6-e7d9ef9c2802",
   "metadata": {},
   "outputs": [
    {
     "name": "stdout",
     "output_type": "stream",
     "text": [
      "['p', 'w', 's', 'k', 'i', 'l', 'l', 's']\n"
     ]
    }
   ],
   "source": [
    "#q7\n",
    "input_string = 'pwskills'\n",
    "result_list = [char for char in input_string]\n",
    "print(result_list)\n"
   ]
  },
  {
   "cell_type": "code",
   "execution_count": 14,
   "id": "282948ba-47d2-494d-b8eb-672ed530b873",
   "metadata": {},
   "outputs": [
    {
     "name": "stdin",
     "output_type": "stream",
     "text": [
      "Enter a number:  123451\n"
     ]
    },
    {
     "name": "stdout",
     "output_type": "stream",
     "text": [
      "123451 is not a palindrome.\n"
     ]
    }
   ],
   "source": [
    "#q8\n",
    "def is_palindrome(number):\n",
    "    original_number = number\n",
    "    reversed_number = 0\n",
    "\n",
    "    while number > 0:\n",
    "        digit = number % 10\n",
    "        reversed_number = reversed_number * 10 + digit\n",
    "        number //= 10\n",
    "\n",
    "    return original_number == reversed_number\n",
    "\n",
    "# Test the function\n",
    "num = int(input(\"Enter a number: \"))\n",
    "\n",
    "if is_palindrome(num):\n",
    "    print(f\"{num} is a palindrome.\")\n",
    "else:\n",
    "    print(f\"{num} is not a palindrome.\")\n"
   ]
  },
  {
   "cell_type": "code",
   "execution_count": null,
   "id": "7dea38f3-b49e-4e6f-ae31-df85cd59ca35",
   "metadata": {},
   "outputs": [],
   "source": [
    "#q9\n"
   ]
  }
 ],
 "metadata": {
  "kernelspec": {
   "display_name": "Python 3 (ipykernel)",
   "language": "python",
   "name": "python3"
  },
  "language_info": {
   "codemirror_mode": {
    "name": "ipython",
    "version": 3
   },
   "file_extension": ".py",
   "mimetype": "text/x-python",
   "name": "python",
   "nbconvert_exporter": "python",
   "pygments_lexer": "ipython3",
   "version": "3.10.8"
  }
 },
 "nbformat": 4,
 "nbformat_minor": 5
}
