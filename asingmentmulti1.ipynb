{
 "cells": [
  {
   "cell_type": "raw",
   "id": "6534d10d-4094-460a-8b34-00b7cb172678",
   "metadata": {},
   "source": [
    "q1. It's a programming model that allows you to execute multiple threads (smaller units of execution) within a single process.\n",
    "     Better resource utilization: Multithreading can make better use of idle CPU time by executing multiple threads when one thread is waiting for I/O.\n",
    "     \n",
    "     threading moduel is used"
   ]
  },
  {
   "cell_type": "code",
   "execution_count": 4,
   "id": "4c807b00-0593-4282-9f99-d2012a0d1ed4",
   "metadata": {
    "tags": []
   },
   "outputs": [
    {
     "ename": "IndentationError",
     "evalue": "unindent does not match any outer indentation level (<tokenize>, line 4)",
     "output_type": "error",
     "traceback": [
      "\u001b[0;36m  File \u001b[0;32m<tokenize>:4\u001b[0;36m\u001b[0m\n\u001b[0;31m    currentThread ():?\u001b[0m\n\u001b[0m    ^\u001b[0m\n\u001b[0;31mIndentationError\u001b[0m\u001b[0;31m:\u001b[0m unindent does not match any outer indentation level\n"
     ]
    }
   ],
   "source": [
    "Q2  enables multithreading: It provides the essential tools for creating and managing multiple threads within a Python program, allowing for concurrent execution of tasks.\n",
    "     activeCount()?\n",
    "               Returns the current number of active threads in the Python interpreter.\n",
    "    currentThread ():?\n",
    "                 Returns the current thread object, representing the thread that's currently executing the code.\n",
    "                enumerate ():?\n",
    "        Returns a list of all currently active thread objects.       \n",
    "                \n",
    "                \n",
    "                \n",
    "                \n",
    "                "
   ]
  },
  {
   "cell_type": "code",
   "execution_count": null,
   "id": "b24dcd37-c1b3-4d03-adab-4706feef422e",
   "metadata": {},
   "outputs": [],
   "source": [
    "Q3  run():\n",
    "           Purpose: This method contains the code that the thread will execute when started.\n",
    "        \n",
    "    start():\n",
    "\n",
    "          Purpose: Starts the thread's execution by calling its run() method.   \n",
    "        \n",
    "        join():\n",
    "\n",
    "            Purpose: Blocks the calling thread until the thread on which it's called terminates.\n",
    "        \n",
    "        isAlive():\n",
    "\n",
    "                Purpose: Checks whether a thread is still running.\n",
    "        \n",
    "        \n",
    "        "
   ]
  },
  {
   "cell_type": "code",
   "execution_count": null,
   "id": "098c3902-ba2c-4d07-b033-d3595ce2bbde",
   "metadata": {},
   "outputs": [],
   "source": [
    "Q4.   import threading\n",
    "import time\n",
    "\n",
    "def print_squares(numbers):\n",
    "    for num in numbers:\n",
    "        time.sleep(0.2)  \n",
    "        print(f\"Square: {num**2}\")\n",
    "\n",
    "def print_cubes(numbers):\n",
    "    for num in numbers:\n",
    "        time.sleep(0.15)  \n",
    "        print(f\"Cube: {num**3}\")\n",
    "\n",
    "numbers = [2, 3, 4, 5, 6]\n",
    "\n",
    "thread1 = threading.Thread(target=print_squares, args=(numbers,))\n",
    "thread2 = threading.Thread(target=print_cubes, args=(numbers,))\n",
    "\n",
    "thread1.start()\n",
    "thread2.start()\n",
    "\n",
    "thread1.join()  \n",
    "thread2.join()\n",
    "\n",
    "print(\"Done!\")"
   ]
  },
  {
   "cell_type": "code",
   "execution_count": null,
   "id": "51e3e9b2-ae69-4488-9c5e-5483cabdeb49",
   "metadata": {},
   "outputs": [],
   "source": [
    "q5. \n",
    "     Advantages of Multithreading:\n",
    "        Improved responsiveness\n",
    "        Better resource utilization\n",
    "        \n",
    "     Disadvantages of Multithreading\n",
    "    \n",
    "       Increased complexity\n",
    "        Context switching overhead\n",
    "        \n",
    "        \n",
    "        \n",
    "        \n",
    "        \n",
    "        "
   ]
  },
  {
   "cell_type": "code",
   "execution_count": null,
   "id": "f806dd9a-c647-4c54-a8a6-59468ce5851b",
   "metadata": {},
   "outputs": [],
   "source": [
    "q6..   A deadlock occurs when two or more threads are waiting for resources held by each other, creating a situation where neither thread can proceed and they are permanently stuck.\n",
    "\n",
    " A race condition occurs when two or more threads access and potentially modify the same shared resource concurrently, leading to an unpredictable outcome depending on which thread finishes its operation first."
   ]
  },
  {
   "cell_type": "code",
   "execution_count": null,
   "id": "f58d2199-df6c-4013-ad51-421390a843d2",
   "metadata": {},
   "outputs": [],
   "source": []
  }
 ],
 "metadata": {
  "kernelspec": {
   "display_name": "Python 3 (ipykernel)",
   "language": "python",
   "name": "python3"
  },
  "language_info": {
   "codemirror_mode": {
    "name": "ipython",
    "version": 3
   },
   "file_extension": ".py",
   "mimetype": "text/x-python",
   "name": "python",
   "nbconvert_exporter": "python",
   "pygments_lexer": "ipython3",
   "version": "3.10.8"
  }
 },
 "nbformat": 4,
 "nbformat_minor": 5
}
