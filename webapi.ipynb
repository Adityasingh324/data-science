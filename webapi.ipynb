{
 "cells": [
  {
   "cell_type": "markdown",
   "id": "8e2179ce-910b-4dda-b9c0-d5447246e26c",
   "metadata": {},
   "source": [
    "Q1.\n",
    "API stands for Application Programming Interface. It's a set of rules and specifications that define how two pieces of software can communicate and exchange data. It acts as a bridge, enabling different applications to interact seamlessly.\n",
    "\n",
    "Real-life examples of API use\n",
    "Weather information in your mobile app\n",
    "Online shopping and payment processing\n",
    "ocial media integration"
   ]
  },
  {
   "cell_type": "markdown",
   "id": "cd14aabb-698d-47d0-955a-c3eae0ce300f",
   "metadata": {},
   "source": [
    "Q2.\n",
    "Advantages:\n",
    "\n",
    "Integration and Interoperability:\n",
    "Enhanced Functionality:\n",
    "Innovation and Ecosystems:\n",
    "\n",
    "Disadvantages:\n",
    "\n",
    "Dependency:\n",
    "Security and Privacy:\n",
    "Cost:\n"
   ]
  },
  {
   "cell_type": "markdown",
   "id": "d11c90d7-cdc8-4cb9-815d-1d1e10e88507",
   "metadata": {},
   "source": [
    "Q3.\n",
    "Web API (Web Application Programming Interface) is a specific type of API designed for web-based interactions. It enables applications to communicate and exchange data over the HTTP protocol, using the same infrastructure as the web itself.\n",
    "\n",
    "                         API\t                                                     Web API\n",
    "Scope\t   Broad term for any interface enabling software communication\t   Specific type of API designed for web interactions\n",
    "Protocols\t Varied (RPC, SOAP, etc.)\t                                   Primarily HTTP\n",
    "Data exchange\t Diverse formats\t                                           Typically JSON or XML\n",
    "Accessibility\t Can be restricted\t                                       Often publicly accessible over the internet\n",
    "Use cases\t System integration, software libraries\t                       Web services, RESTful architectures, mobile apps, browser extensions"
   ]
  },
  {
   "cell_type": "markdown",
   "id": "84f8acdc-6e0a-48c4-b5af-0595e19eb4b3",
   "metadata": {},
   "source": [
    "Q4.\n",
    "REST (REpresentational State Transfer):\n",
    "\n",
    "Architectural style: Emphasizes simplicity and flexibility, relying on existing web standards like HTTP.\n",
    "Resource-oriented: Treats everything as a resource (data or functionality) identified by URLs.\n",
    "Stateless: Each request carries all necessary information, server doesn't maintain session state.\n",
    "\n",
    "SOAP (Simple Object Access Protocol):\n",
    "\n",
    "Protocol: Defines a specific set of rules and standards for message format, communication, and security.\n",
    "Service-oriented: Focuses on exposing services with defined operations and parameters.\n",
    "Stateful: Can maintain context and session state on the server.\n",
    "\n",
    "\n",
    "Shortcomings of SOAP:\n",
    "\n",
    "Verbosity: XML data format can be verbose and inefficient compared to JSON.\n",
    "Performance: Large XML messages can impact communication speed and scalability.\n",
    "Complexity: Strict protocols and standards can increase development and maintenance complexity.\n"
   ]
  },
  {
   "cell_type": "code",
   "execution_count": null,
   "id": "cbfb4c1e-7e0f-452c-81eb-04c5d630bf21",
   "metadata": {},
   "outputs": [],
   "source": [
    "Q5.\n"
   ]
  }
 ],
 "metadata": {
  "kernelspec": {
   "display_name": "Python 3 (ipykernel)",
   "language": "python",
   "name": "python3"
  },
  "language_info": {
   "codemirror_mode": {
    "name": "ipython",
    "version": 3
   },
   "file_extension": ".py",
   "mimetype": "text/x-python",
   "name": "python",
   "nbconvert_exporter": "python",
   "pygments_lexer": "ipython3",
   "version": "3.10.8"
  }
 },
 "nbformat": 4,
 "nbformat_minor": 5
}
