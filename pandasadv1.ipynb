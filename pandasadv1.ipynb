{
 "cells": [
  {
   "cell_type": "code",
   "execution_count": 3,
   "id": "e4c128d9-ab3e-4ea5-87ce-0a3aa66a5bfb",
   "metadata": {},
   "outputs": [
    {
     "ename": "SyntaxError",
     "evalue": "invalid decimal literal (1332755850.py, line 1)",
     "output_type": "error",
     "traceback": [
      "\u001b[0;36m  Cell \u001b[0;32mIn[3], line 1\u001b[0;36m\u001b[0m\n\u001b[0;31m    Q1. 1.read_csv\u001b[0m\n\u001b[0m         ^\u001b[0m\n\u001b[0;31mSyntaxError\u001b[0m\u001b[0;31m:\u001b[0m invalid decimal literal\n"
     ]
    }
   ],
   "source": [
    "Q1. 1.read_csv\n",
    "      \n",
    "import pandas as pd\n",
    "\n",
    "# Read the data from the CSV file\n",
    "df = pd.read_csv(\"data.csv\")\n",
    "\n",
    "# Print the first 5 rows of the DataFrame\n",
    "print(df.head())\n",
    "\n",
    "2. head()\n",
    "\n",
    "   df.head()\n",
    "   \n",
    "3. describe\n",
    "  \n",
    "   df.describe()\n",
    "\n",
    "4. loc()\n",
    "   \n",
    "   # Select the rows where the \"Age\" column is greater than 30\n",
    "   filtered_df = df.loc[df[\"Age\"] > 30]\n",
    "\n",
    "# Select the \"Name\" and \"Age\" columns\n",
    "   selected_columns = df[[\"Name\", \"Age\"]]\n",
    "\n",
    "5. sort_values\n",
    "   # Sort the DataFrame by the \"Age\" column in descending order\n",
    "sorted_df = df.sort_values(by=\"Age\", ascending=False)\n",
    "\n",
    "\n"
   ]
  },
  {
   "cell_type": "code",
   "execution_count": 4,
   "id": "c5c132c5-eeba-4f51-8914-faa1a32014a9",
   "metadata": {},
   "outputs": [
    {
     "ename": "SyntaxError",
     "evalue": "invalid syntax (1615000964.py, line 1)",
     "output_type": "error",
     "traceback": [
      "\u001b[0;36m  Cell \u001b[0;32mIn[4], line 1\u001b[0;36m\u001b[0m\n\u001b[0;31m    Q2.\u001b[0m\n\u001b[0m       ^\u001b[0m\n\u001b[0;31mSyntaxError\u001b[0m\u001b[0;31m:\u001b[0m invalid syntax\n"
     ]
    }
   ],
   "source": [
    "Q2.\n",
    "def reindex_by_incrementing_2(df):\n",
    "  \"\"\"\n",
    "  Re-indexes the DataFrame with a new index starting from 1 and incrementing by 2.\n",
    "\n",
    "  Args:\n",
    "    df: The DataFrame to be re-indexed.\n",
    "\n",
    "  Returns:\n",
    "    A new DataFrame with the re-indexed index.\n",
    "  \"\"\"\n",
    "  new_index = range(1, len(df) * 2 + 1, 2)\n",
    "  return df.set_index(new_index)\n"
   ]
  },
  {
   "cell_type": "code",
   "execution_count": 5,
   "id": "9f5b3a96-3b26-4dee-bc3d-1bd57cecd4fc",
   "metadata": {},
   "outputs": [
    {
     "ename": "SyntaxError",
     "evalue": "invalid syntax (3760089979.py, line 1)",
     "output_type": "error",
     "traceback": [
      "\u001b[0;36m  Cell \u001b[0;32mIn[5], line 1\u001b[0;36m\u001b[0m\n\u001b[0;31m    Q3. def sum_first_three_values(df):\u001b[0m\n\u001b[0m        ^\u001b[0m\n\u001b[0;31mSyntaxError\u001b[0m\u001b[0;31m:\u001b[0m invalid syntax\n"
     ]
    }
   ],
   "source": [
    "Q3. def sum_first_three_values(df):\n",
    "  \"\"\"\n",
    "  Calculates the sum of the first three values in the 'Values' column and prints it.\n",
    "\n",
    "  Args:\n",
    "    df: The DataFrame containing the 'Values' column.\n",
    "  \"\"\"\n",
    "  total_sum = 0\n",
    "  for i in range(3):\n",
    "    try:\n",
    "      total_sum += df.loc[i, 'Values']\n",
    "    except IndexError:\n",
    "      print(\"DataFrame has less than 3 rows. Summing available values.\")\n",
    "      break\n",
    "\n",
    "  print(f\"Sum of the first three values: {total_sum}\")\n",
    "\n"
   ]
  },
  {
   "cell_type": "code",
   "execution_count": 6,
   "id": "4e43d4ef-e36c-4a13-82c9-b01a86a71975",
   "metadata": {},
   "outputs": [
    {
     "ename": "SyntaxError",
     "evalue": "invalid syntax (32996625.py, line 1)",
     "output_type": "error",
     "traceback": [
      "\u001b[0;36m  Cell \u001b[0;32mIn[6], line 1\u001b[0;36m\u001b[0m\n\u001b[0;31m    Q4.\u001b[0m\n\u001b[0m       ^\u001b[0m\n\u001b[0;31mSyntaxError\u001b[0m\u001b[0;31m:\u001b[0m invalid syntax\n"
     ]
    }
   ],
   "source": [
    "Q4.\n",
    "\n",
    "import pandas as pd\n",
    "\n",
    "\n",
    "def add_word_count_column(df):\n",
    "  \"\"\"\n",
    "  Adds a new column 'Word_Count' containing the number of words in each row of the 'Text' column.\n",
    "\n",
    "  Args:\n",
    "    df: The DataFrame containing the 'Text' column.\n",
    "\n",
    "  Returns:\n",
    "    A new DataFrame with the added 'Word_Count' column.\n",
    "  \"\"\"\n",
    "  df['Word_Count'] = df['Text'].apply(lambda x: len(x.split()))\n",
    "  return df\n",
    "\n",
    "# Sample DataFrame\n",
    "data = {'Text': ['This is a sentence', 'Another sentence with more words', 'Short text']}\n",
    "df = pd.DataFrame(data)\n",
    "\n",
    "# Add the 'Word_Count' column\n",
    "df_with_word_count = add_word_count_column(df.copy())\n",
    "\n",
    "print(df_with_word_count)\n"
   ]
  },
  {
   "cell_type": "code",
   "execution_count": 7,
   "id": "a62fdb29-435a-4bfd-a967-171d609ef504",
   "metadata": {},
   "outputs": [
    {
     "ename": "SyntaxError",
     "evalue": "invalid syntax (478211368.py, line 1)",
     "output_type": "error",
     "traceback": [
      "\u001b[0;36m  Cell \u001b[0;32mIn[7], line 1\u001b[0;36m\u001b[0m\n\u001b[0;31m    Q5.\u001b[0m\n\u001b[0m       ^\u001b[0m\n\u001b[0;31mSyntaxError\u001b[0m\u001b[0;31m:\u001b[0m invalid syntax\n"
     ]
    }
   ],
   "source": [
    "Q5.\n",
    "Feature\tDataFrame.size()\tDataFrame.shape()\n",
    "Output type\tInteger\tTuple\n",
    "Information\tTotal elements\tRows and columns\n",
    "Use case\tOverall size\tDetailed dimensions"
   ]
  },
  {
   "cell_type": "code",
   "execution_count": 8,
   "id": "ca0c5cfe-15a6-47af-9ae3-6aa37f21e5ca",
   "metadata": {},
   "outputs": [
    {
     "ename": "SyntaxError",
     "evalue": "invalid syntax (2964067682.py, line 1)",
     "output_type": "error",
     "traceback": [
      "\u001b[0;36m  Cell \u001b[0;32mIn[8], line 1\u001b[0;36m\u001b[0m\n\u001b[0;31m    Q6.\u001b[0m\n\u001b[0m       ^\u001b[0m\n\u001b[0;31mSyntaxError\u001b[0m\u001b[0;31m:\u001b[0m invalid syntax\n"
     ]
    }
   ],
   "source": [
    "Q6.\n",
    "\n",
    "The function used to read an Excel file in pandas is read_excel(). It offers a versatile and efficient way to load Excel data into a pandas DataFrame."
   ]
  },
  {
   "cell_type": "code",
   "execution_count": 9,
   "id": "9a14a331-dd46-4ce3-ba9d-3ae07557d607",
   "metadata": {},
   "outputs": [
    {
     "ename": "SyntaxError",
     "evalue": "invalid syntax (1697210932.py, line 1)",
     "output_type": "error",
     "traceback": [
      "\u001b[0;36m  Cell \u001b[0;32mIn[9], line 1\u001b[0;36m\u001b[0m\n\u001b[0;31m    Q7.\u001b[0m\n\u001b[0m       ^\u001b[0m\n\u001b[0;31mSyntaxError\u001b[0m\u001b[0;31m:\u001b[0m invalid syntax\n"
     ]
    }
   ],
   "source": [
    "Q7.\n",
    "import pandas as pd\n",
    "\n",
    "\n",
    "def extract_usernames(df):\n",
    "  \"\"\"\n",
    "  Extracts usernames from email addresses in the 'Email' column and adds them to a new 'Username' column.\n",
    "\n",
    "  Args:\n",
    "    df: The DataFrame containing the 'Email' column.\n",
    "\n",
    "  Returns:\n",
    "    A new DataFrame with the added 'Username' column.\n",
    "  \"\"\"\n",
    "  df['Username'] = df['Email'].str.split('@').str[0]\n",
    "  return df\n",
    "\n",
    "# Sample DataFrame\n",
    "data = {'Email': ['john.doe@example.com', 'jane.smith@gmail.com', 'someone@domain.com']}\n",
    "df = pd.DataFrame(data)\n",
    "\n",
    "# Extract usernames and add the 'Username' column\n",
    "df_with_usernames = extract_usernames(df.copy())\n",
    "\n",
    "print(df_with_usernames)\n"
   ]
  },
  {
   "cell_type": "code",
   "execution_count": 10,
   "id": "191d8a0d-07ef-499c-a8a7-0c425b00bc08",
   "metadata": {},
   "outputs": [
    {
     "ename": "SyntaxError",
     "evalue": "invalid syntax (4282185472.py, line 1)",
     "output_type": "error",
     "traceback": [
      "\u001b[0;36m  Cell \u001b[0;32mIn[10], line 1\u001b[0;36m\u001b[0m\n\u001b[0;31m    Q8.\u001b[0m\n\u001b[0m       ^\u001b[0m\n\u001b[0;31mSyntaxError\u001b[0m\u001b[0;31m:\u001b[0m invalid syntax\n"
     ]
    }
   ],
   "source": [
    "Q8.\n",
    "import pandas as pd\n",
    "\n",
    "\n",
    "def filter_by_conditions(df):\n",
    " \"\"\"\n",
    " Selects rows where A > 5 and B < 10 and returns a new DataFrame.\n",
    "\n",
    " Args:\n",
    "   df: The DataFrame containing the columns 'A', 'B', and 'C'.\n",
    "\n",
    " Returns:\n",
    "   A new DataFrame containing only the selected rows.\n",
    " \"\"\"\n",
    " return df[(df['A'] > 5) & (df['B'] < 10)]\n",
    "\n",
    "# Sample DataFrame\n",
    "data = {'A': [3, 8, 6, 2, 9], 'B': [5, 2, 9, 3, 1], 'C': [1, 7, 4, 5, 2]}\n",
    "df = pd.DataFrame(data)\n",
    "\n",
    "# Filter and select rows\n",
    "filtered_df = filter_by_conditions(df.copy())\n",
    "\n",
    "print(filtered_df)\n"
   ]
  },
  {
   "cell_type": "code",
   "execution_count": 11,
   "id": "3d171a4a-487d-4c80-afbe-ba5c57fdb466",
   "metadata": {},
   "outputs": [
    {
     "ename": "SyntaxError",
     "evalue": "invalid syntax (2579398353.py, line 1)",
     "output_type": "error",
     "traceback": [
      "\u001b[0;36m  Cell \u001b[0;32mIn[11], line 1\u001b[0;36m\u001b[0m\n\u001b[0;31m    Q9.\u001b[0m\n\u001b[0m       ^\u001b[0m\n\u001b[0;31mSyntaxError\u001b[0m\u001b[0;31m:\u001b[0m invalid syntax\n"
     ]
    }
   ],
   "source": [
    "Q9.\n",
    "\n",
    "import pandas as pd\n",
    "\n",
    "\n",
    "def calculate_descriptive_statistics(df):\n",
    "  \"\"\"\n",
    "  Calculates the mean, median, and standard deviation of the values in the 'Values' column.\n",
    "\n",
    "  Args:\n",
    "    df: The DataFrame containing the 'Values' column.\n",
    "\n",
    "  Returns:\n",
    "    A dictionary containing the mean, median, and standard deviation.\n",
    "  \"\"\"\n",
    "  return {\n",
    "      'mean': df['Values'].mean(),\n",
    "      'median': df['Values'].median(),\n",
    "      'std': df['Values'].std()\n",
    "  }\n",
    "\n",
    "# Sample DataFrame\n",
    "data = {'Values': [10, 20, 30, 40, 50]}\n",
    "df = pd.DataFrame(data)\n",
    "\n",
    "# Calculate descriptive statistics\n",
    "stats = calculate_descriptive_statistics(df.copy())\n",
    "\n",
    "print(stats)\n"
   ]
  },
  {
   "cell_type": "code",
   "execution_count": 12,
   "id": "b8e621fd-bf95-4bcf-aebd-9d954ba3e8a4",
   "metadata": {},
   "outputs": [
    {
     "ename": "SyntaxError",
     "evalue": "invalid syntax (1500355779.py, line 1)",
     "output_type": "error",
     "traceback": [
      "\u001b[0;36m  Cell \u001b[0;32mIn[12], line 1\u001b[0;36m\u001b[0m\n\u001b[0;31m    Q10.\u001b[0m\n\u001b[0m        ^\u001b[0m\n\u001b[0;31mSyntaxError\u001b[0m\u001b[0;31m:\u001b[0m invalid syntax\n"
     ]
    }
   ],
   "source": [
    "Q10.\n",
    "import pandas as pd\n",
    "\n",
    "\n",
    "def calculate_moving_average(df):\n",
    "  \"\"\"\n",
    "  Calculates the moving average of sales for the past 7 days and adds it as a new column.\n",
    "\n",
    "  Args:\n",
    "    df: The DataFrame containing the 'Sales' and 'Date' columns.\n",
    "\n",
    "  Returns:\n",
    "    A new DataFrame with the added 'MovingAverage' column.\n",
    "  \"\"\"\n",
    "  df['MovingAverage'] = df['Sales'].rolling(window=7).mean()\n",
    "  return df\n",
    "\n",
    "# Sample DataFrame\n",
    "data = {'Date': ['2023-01-01', '2023-01-02', '2023-01-03', '2023-01-04', '2023-01-05', '2023-01-06', '2023-01-07'],\n",
    "        'Sales': [10, 20, 30, 40, 50, 60, 70]}\n",
    "df = pd.DataFrame(data)\n",
    "\n",
    "# Convert 'Date' column to datetime\n",
    "df['Date'] = pd.to_datetime(df['Date'])\n",
    "\n",
    "# Sort by date in ascending order\n",
    "df = df.sort_values(by='Date')\n",
    "\n",
    "# Calculate moving average\n",
    "df = calculate_moving_average(df.copy())\n",
    "\n",
    "print(df)\n"
   ]
  },
  {
   "cell_type": "code",
   "execution_count": 13,
   "id": "af497fd8-564a-409d-a6ce-0210899cf974",
   "metadata": {},
   "outputs": [
    {
     "ename": "SyntaxError",
     "evalue": "invalid syntax (3567854921.py, line 1)",
     "output_type": "error",
     "traceback": [
      "\u001b[0;36m  Cell \u001b[0;32mIn[13], line 1\u001b[0;36m\u001b[0m\n\u001b[0;31m    Q11.\u001b[0m\n\u001b[0m        ^\u001b[0m\n\u001b[0;31mSyntaxError\u001b[0m\u001b[0;31m:\u001b[0m invalid syntax\n"
     ]
    }
   ],
   "source": [
    "Q11.\n",
    "\n",
    "import pandas as pd\n",
    "\n",
    "\n",
    "def add_weekday_column(df):\n",
    "  \"\"\"\n",
    "  Adds a new 'Weekday' column containing the weekday name for each date.\n",
    "\n",
    "  Args:\n",
    "    df: The DataFrame containing the 'Date' column.\n",
    "\n",
    "  Returns:\n",
    "    A new DataFrame with the added 'Weekday' column.\n",
    "  \"\"\"\n",
    "  df['Weekday'] = df['Date'].dt.strftime('%A')\n",
    "  return df\n",
    "\n",
    "# Sample DataFrame\n",
    "data = {'Date': ['2023-01-01', '2023-01-02', '2023-01-03', '2023-01-04', '2023-01-05']}\n",
    "df = pd.DataFrame(data)\n",
    "\n",
    "# Convert 'Date' column to datetime\n",
    "df['Date'] = pd.to_datetime(df['Date'])\n",
    "\n",
    "# Add weekday column\n",
    "df = add_weekday_column(df.copy())\n",
    "\n",
    "print(df)\n"
   ]
  },
  {
   "cell_type": "code",
   "execution_count": 14,
   "id": "2371a696-fa9f-4ba4-b295-0b9ffad79ba1",
   "metadata": {},
   "outputs": [
    {
     "ename": "SyntaxError",
     "evalue": "invalid syntax (1766294939.py, line 1)",
     "output_type": "error",
     "traceback": [
      "\u001b[0;36m  Cell \u001b[0;32mIn[14], line 1\u001b[0;36m\u001b[0m\n\u001b[0;31m    Q12.\u001b[0m\n\u001b[0m        ^\u001b[0m\n\u001b[0;31mSyntaxError\u001b[0m\u001b[0;31m:\u001b[0m invalid syntax\n"
     ]
    }
   ],
   "source": [
    "Q12.\n",
    "\n",
    "import pandas as pd\n",
    "\n",
    "\n",
    "def filter_by_date_range(df, start_date, end_date):\n",
    "  \"\"\"\n",
    "  Filters rows based on a specified date range in the 'Date' column.\n",
    "\n",
    "  Args:\n",
    "    df: The DataFrame containing the 'Date' column.\n",
    "    start_date: The starting date of the range (inclusive).\n",
    "    end_date: The ending date of the range (inclusive).\n",
    "\n",
    "  Returns:\n",
    "    A new DataFrame containing only the filtered rows.\n",
    "  \"\"\"\n",
    "  return df[(df['Date'] >= start_date) & (df['Date'] <= end_date)]\n",
    "\n",
    "# Sample DataFrame with timestamps\n",
    "data = {'Date': ['2023-01-05', '2023-02-01', '2023-01-20', '2023-01-31', '2022-12-31']}\n",
    "df = pd.DataFrame(data)\n",
    "\n",
    "# Convert 'Date' column to datetime\n",
    "df['Date'] = pd.to_datetime(df['Date'])\n",
    "\n",
    "# Select rows between '2023-01-01' and '2023-01-31' (inclusive)\n",
    "filtered_df = filter_by_date_range(df.copy(), '2023-01-01', '2023-01-31')\n",
    "\n",
    "print(filtered_df)\n"
   ]
  },
  {
   "cell_type": "code",
   "execution_count": 15,
   "id": "5467a4d5-1a12-41fe-a1f5-fd1a90bb7641",
   "metadata": {},
   "outputs": [
    {
     "ename": "SyntaxError",
     "evalue": "invalid syntax (3779329385.py, line 1)",
     "output_type": "error",
     "traceback": [
      "\u001b[0;36m  Cell \u001b[0;32mIn[15], line 1\u001b[0;36m\u001b[0m\n\u001b[0;31m    Q13.\u001b[0m\n\u001b[0m        ^\u001b[0m\n\u001b[0;31mSyntaxError\u001b[0m\u001b[0;31m:\u001b[0m invalid syntax\n"
     ]
    }
   ],
   "source": [
    "Q13.\n",
    "import pandas as pd\n"
   ]
  },
  {
   "cell_type": "code",
   "execution_count": null,
   "id": "ff93a055-b419-449a-a6f6-b2f47710c8d4",
   "metadata": {},
   "outputs": [],
   "source": []
  }
 ],
 "metadata": {
  "kernelspec": {
   "display_name": "Python 3 (ipykernel)",
   "language": "python",
   "name": "python3"
  },
  "language_info": {
   "codemirror_mode": {
    "name": "ipython",
    "version": 3
   },
   "file_extension": ".py",
   "mimetype": "text/x-python",
   "name": "python",
   "nbconvert_exporter": "python",
   "pygments_lexer": "ipython3",
   "version": "3.10.8"
  }
 },
 "nbformat": 4,
 "nbformat_minor": 5
}
