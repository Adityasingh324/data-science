{
 "cells": [
  {
   "cell_type": "code",
   "execution_count": 1,
   "id": "88da805d-a0f3-415f-b8a9-43e9f19a6e20",
   "metadata": {},
   "outputs": [
    {
     "name": "stdout",
     "output_type": "stream",
     "text": [
      "Name: Car\n",
      "Max Speed: 200\n",
      "Average Speed: 40\n"
     ]
    }
   ],
   "source": [
    "#q1\n",
    "class Vehicle:\n",
    "    def __init__(self, name_of_vehicle, max_speed, average_of_vehicle):\n",
    "        self.name_of_vehicle = name_of_vehicle\n",
    "        self.max_speed = max_speed\n",
    "        self.average_of_vehicle = average_of_vehicle\n",
    "\n",
    "\n",
    "car = Vehicle(\"Car\", 200, 40)\n",
    "print(\"Name:\", car.name_of_vehicle)\n",
    "print(\"Max Speed:\", car.max_speed)\n",
    "print(\"Average Speed:\", car.average_of_vehicle)\n"
   ]
  },
  {
   "cell_type": "code",
   "execution_count": 2,
   "id": "007d15bc-cf38-4a81-93e4-55d82cea907a",
   "metadata": {},
   "outputs": [
    {
     "name": "stdout",
     "output_type": "stream",
     "text": [
      "Sedan has a seating capacity of 5.\n"
     ]
    }
   ],
   "source": [
    "#q2\n",
    "class Vehicle:\n",
    "    def __init__(self, name_of_vehicle, max_speed, average_of_vehicle):\n",
    "        self.name_of_vehicle = name_of_vehicle\n",
    "        self.max_speed = max_speed\n",
    "        self.average_of_vehicle = average_of_vehicle\n",
    "\n",
    "class Car(Vehicle):\n",
    "    def __init__(self, name_of_vehicle, max_speed, average_of_vehicle):\n",
    "        super().__init__(name_of_vehicle, max_speed, average_of_vehicle)\n",
    "\n",
    "    def seating_capacity(self, capacity):\n",
    "        return f\"{self.name_of_vehicle} has a seating capacity of {capacity}.\"\n",
    "\n",
    "car = Car(\"Sedan\", 180, 30)\n",
    "print(car.seating_capacity(5))\n"
   ]
  },
  {
   "cell_type": "code",
   "execution_count": 3,
   "id": "77442fae-877f-4f41-88f2-df20bec23a6f",
   "metadata": {},
   "outputs": [
    {
     "name": "stdout",
     "output_type": "stream",
     "text": [
      "Method from Parent1\n",
      "Method from Parent2\n",
      "Method from Child\n"
     ]
    }
   ],
   "source": [
    "#q3 Multiple inheritance is a feature in object-oriented programming where a class can inherit attributes and methods from more than one parent class. This allows a subclass to inherit characteristics from multiple parent classes, creating a hierarchy of classes.\n",
    "\n",
    "\n",
    "class Parent1:\n",
    "    def method1(self):\n",
    "        print(\"Method from Parent1\")\n",
    "\n",
    "class Parent2:\n",
    "    def method2(self):\n",
    "        print(\"Method from Parent2\")\n",
    "\n",
    "class Child(Parent1, Parent2):\n",
    "    def method3(self):\n",
    "        print(\"Method from Child\")\n",
    "\n",
    "# Creating an instance of Child\n",
    "child_obj = Child()\n",
    "\n",
    "# Calling methods from Parent1, Parent2, and Child\n",
    "child_obj.method1()\n",
    "child_obj.method2()\n",
    "child_obj.method3()\n"
   ]
  },
  {
   "cell_type": "code",
   "execution_count": 4,
   "id": "b89cc6e9-ad53-4e3a-9b83-d72a9714cb93",
   "metadata": {},
   "outputs": [
    {
     "name": "stdout",
     "output_type": "stream",
     "text": [
      "Name: Alice\n",
      "Age: 20\n",
      "Updated Name: Bob\n",
      "Updated Age: 25\n"
     ]
    }
   ],
   "source": [
    "#q4 n Python, getters and setters are methods used to access and modify the attributes (instance variables) of a class in a controlled manner. They are used to encapsulate the attribute access and modification, allowing you to enforce certain conditions or logic when accessing or modifying the attributes.\n",
    "class Student:\n",
    "    def __init__(self, name, age):\n",
    "        self._name = name  # Using a single underscore to indicate a \"protected\" attribute\n",
    "        self._age = age\n",
    "\n",
    "    # Getter method for 'name'\n",
    "    def get_name(self):\n",
    "        return self._name\n",
    "\n",
    "    # Setter method for 'name'\n",
    "    def set_name(self, name):\n",
    "        if isinstance(name, str):\n",
    "            self._name = name\n",
    "        else:\n",
    "            print(\"Name must be a string.\")\n",
    "\n",
    "    # Getter method for 'age'\n",
    "    def get_age(self):\n",
    "        return self._age\n",
    "\n",
    "    # Setter method for 'age'\n",
    "    def set_age(self, age):\n",
    "        if isinstance(age, int) and age >= 0:\n",
    "            self._age = age\n",
    "        else:\n",
    "            print(\"Age must be a non-negative integer.\")\n",
    "\n",
    "# Creating an instance of the class\n",
    "student = Student(\"Alice\", 20)\n",
    "\n",
    "# Using getter methods\n",
    "print(\"Name:\", student.get_name())\n",
    "print(\"Age:\", student.get_age())\n",
    "\n",
    "# Using setter methods\n",
    "student.set_name(\"Bob\")\n",
    "student.set_age(25)\n",
    "\n",
    "# Using getter methods again to confirm changes\n",
    "print(\"Updated Name:\", student.get_name())\n",
    "print(\"Updated Age:\", student.get_age())\n"
   ]
  },
  {
   "cell_type": "code",
   "execution_count": null,
   "id": "dbbe4417-8286-4bc5-bdad-c20e9d290abe",
   "metadata": {},
   "outputs": [],
   "source": []
  }
 ],
 "metadata": {
  "kernelspec": {
   "display_name": "Python 3 (ipykernel)",
   "language": "python",
   "name": "python3"
  },
  "language_info": {
   "codemirror_mode": {
    "name": "ipython",
    "version": 3
   },
   "file_extension": ".py",
   "mimetype": "text/x-python",
   "name": "python",
   "nbconvert_exporter": "python",
   "pygments_lexer": "ipython3",
   "version": "3.10.8"
  }
 },
 "nbformat": 4,
 "nbformat_minor": 5
}
