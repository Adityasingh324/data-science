{
 "cells": [
  {
   "cell_type": "code",
   "execution_count": 1,
   "id": "643046a9-4cfc-4bf5-90c6-c76cc4e676e0",
   "metadata": {},
   "outputs": [
    {
     "ename": "IndentationError",
     "evalue": "unexpected indent (1367706860.py, line 2)",
     "output_type": "error",
     "traceback": [
      "\u001b[0;36m  Cell \u001b[0;32mIn[1], line 2\u001b[0;36m\u001b[0m\n\u001b[0;31m    comments are of two type 1.single line comment and 2. multiline comment.\u001b[0m\n\u001b[0m    ^\u001b[0m\n\u001b[0;31mIndentationError\u001b[0m\u001b[0;31m:\u001b[0m unexpected indent\n"
     ]
    }
   ],
   "source": [
    "#Q1.  for comment we use \"#\" symbol and continue until the line end\n",
    "        comments are of two type 1.single line comment and 2. multiline comment."
   ]
  },
  {
   "cell_type": "code",
   "execution_count": 3,
   "id": "a1d57ffe-1e75-406f-ba86-18155516f2bd",
   "metadata": {},
   "outputs": [],
   "source": [
    "# Q2. variables are used to store the values. they act as a container which stores different type to data such as intergers,characters, list and many complex."
   ]
  },
  {
   "cell_type": "code",
   "execution_count": 4,
   "id": "d940d215-f0dc-4132-bd5d-eb008ef0c150",
   "metadata": {},
   "outputs": [],
   "source": [
    "# declaration and assingment of variable\n",
    "\n",
    "age =15;\n",
    "name= \"aditya\"\n",
    "salary= 230.25"
   ]
  },
  {
   "cell_type": "code",
   "execution_count": 12,
   "id": "e0030f15-b512-44f8-9d47-5bf6dd03d487",
   "metadata": {},
   "outputs": [
    {
     "name": "stdout",
     "output_type": "stream",
     "text": [
      "5\n",
      "6.0\n",
      "787\n",
      "False\n"
     ]
    }
   ],
   "source": [
    "# Q3. conersion of data type are as follow.\n",
    "a=int(5.66)\n",
    "print(a)\n",
    "b=float(6)\n",
    "print(b)\n",
    "c=str(787)\n",
    "print(c)\n",
    "d=bool(0)\n",
    "print(d)\n"
   ]
  },
  {
   "cell_type": "code",
   "execution_count": 16,
   "id": "dcd1c07e-2cf5-4d27-ba7c-2e253be1ace2",
   "metadata": {},
   "outputs": [],
   "source": [
    "#'''Q4. to execute the program form command line following are as follow.\n",
    " #1. open text editor and create open new file.\n",
    "# 2. write the python script in the file.\n",
    " #3.Save the file with a .py extension. In this case, save it as hello_world.py.\n",
    " #4.Open the command line or terminal.\n",
    " #5.Navigate to the directory where you saved the Python script. You can use the cd command to change directories.\n",
    " #6.Once you are in the correct directory, you can run the Python script by typing python followed by the script's filename.\n",
    "# 7.Press Enter to execute the command. The script will run\n",
    "  "
   ]
  },
  {
   "cell_type": "code",
   "execution_count": 3,
   "id": "02d3e0d3-58ff-4655-b6fe-1082740dc207",
   "metadata": {},
   "outputs": [
    {
     "name": "stdout",
     "output_type": "stream",
     "text": [
      "[2, 3]\n"
     ]
    }
   ],
   "source": [
    "#q5.\n",
    "my_list = [1, 2, 3, 4, 5]\n",
    "sub_list = my_list[1:3]\n",
    "print(sub_list)"
   ]
  },
  {
   "cell_type": "code",
   "execution_count": 9,
   "id": "cd81f104-72c0-4597-b2ce-fafcc50a3165",
   "metadata": {},
   "outputs": [
    {
     "name": "stdout",
     "output_type": "stream",
     "text": [
      "(2+6j)\n"
     ]
    }
   ],
   "source": [
    "#Q6. in mathematics, complex number is a number which is represented in the form of a+ib in which a and b are real number and i is imaginary.\n",
    "\n",
    "z1=3+5j\n",
    "z2=complex(2,6)\n",
    "print (z2)"
   ]
  },
  {
   "cell_type": "code",
   "execution_count": 18,
   "id": "b0bd2476-f1c7-40fd-9972-2316aaf6c77c",
   "metadata": {},
   "outputs": [],
   "source": [
    "#Q7 the correct way is\n",
    "age = 25\n",
    "\n"
   ]
  },
  {
   "cell_type": "code",
   "execution_count": 21,
   "id": "7cfce7db-8c72-44af-bb0a-c4171864ab7f",
   "metadata": {},
   "outputs": [
    {
     "name": "stdout",
     "output_type": "stream",
     "text": [
      "<class 'float'>\n"
     ]
    }
   ],
   "source": [
    "#Q8\n",
    "price=9.99\n",
    "\n",
    "print(type(price))\n"
   ]
  },
  {
   "cell_type": "code",
   "execution_count": 2,
   "id": "eb206624-b9c1-4ec8-9439-1c437bf430ef",
   "metadata": {},
   "outputs": [
    {
     "name": "stdout",
     "output_type": "stream",
     "text": [
      "aditya singh baliyan\n"
     ]
    }
   ],
   "source": [
    "#Q9\n",
    "name=\"aditya singh baliyan\"\n",
    "print(name)"
   ]
  },
  {
   "cell_type": "code",
   "execution_count": 8,
   "id": "be7b96e5-443b-4327-aeb1-f1a4c2b56150",
   "metadata": {},
   "outputs": [
    {
     "name": "stdout",
     "output_type": "stream",
     "text": [
      "world\n"
     ]
    }
   ],
   "source": [
    "#Q10\n",
    "s=\"hello world\"\n",
    "substring = s[6:12]\n",
    "print(substring)"
   ]
  },
  {
   "cell_type": "code",
   "execution_count": null,
   "id": "af14865a-d2a6-458e-8673-8e4335e5df86",
   "metadata": {},
   "outputs": [],
   "source": [
    "#Q11\n",
    "is_student =true\n"
   ]
  },
  {
   "cell_type": "code",
   "execution_count": null,
   "id": "c0f0ff15-9d1c-4765-bb50-53ed07a782fc",
   "metadata": {},
   "outputs": [],
   "source": []
  }
 ],
 "metadata": {
  "kernelspec": {
   "display_name": "Python 3 (ipykernel)",
   "language": "python",
   "name": "python3"
  },
  "language_info": {
   "codemirror_mode": {
    "name": "ipython",
    "version": 3
   },
   "file_extension": ".py",
   "mimetype": "text/x-python",
   "name": "python",
   "nbconvert_exporter": "python",
   "pygments_lexer": "ipython3",
   "version": "3.10.8"
  }
 },
 "nbformat": 4,
 "nbformat_minor": 5
}
