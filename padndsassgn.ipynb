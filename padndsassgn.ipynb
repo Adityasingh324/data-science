{
 "cells": [
  {
   "cell_type": "markdown",
   "id": "0d1ca50a-b324-4d6c-aaa9-89188510d3ee",
   "metadata": {},
   "source": [
    "#Q1"
   ]
  },
  {
   "cell_type": "markdown",
   "id": "016cce67-a26f-4cae-9afd-563d01986bd2",
   "metadata": {},
   "source": [
    "import pandas as pd"
   ]
  },
  {
   "cell_type": "markdown",
   "id": "5da98917-51e7-444c-82a5-c3eb325e3cf5",
   "metadata": {},
   "source": [
    "data =[4, 8, 15, 16, 23, 42]"
   ]
  },
  {
   "cell_type": "markdown",
   "id": "1dc71dbf-600d-42cb-ae55-3fbd07a12447",
   "metadata": {},
   "source": [
    "series = pd.Series(data)"
   ]
  },
  {
   "cell_type": "code",
   "execution_count": 6,
   "id": "50c70d03-6f3f-4ffc-b0de-ce5c88be55d6",
   "metadata": {},
   "outputs": [
    {
     "data": {
      "text/plain": [
       "0     4\n",
       "1     8\n",
       "2    15\n",
       "3    16\n",
       "4    23\n",
       "5    42\n",
       "dtype: int64"
      ]
     },
     "execution_count": 6,
     "metadata": {},
     "output_type": "execute_result"
    }
   ],
   "source": [
    "series"
   ]
  },
  {
   "cell_type": "markdown",
   "id": "260e886f-e104-4c0a-94d4-f77f4d9762f7",
   "metadata": {},
   "source": [
    "Q2"
   ]
  },
  {
   "cell_type": "code",
   "execution_count": 7,
   "id": "48c66c01-1188-4669-92ff-a4e239a57dc8",
   "metadata": {},
   "outputs": [
    {
     "name": "stdout",
     "output_type": "stream",
     "text": [
      "0     1\n",
      "1     2\n",
      "2     3\n",
      "3     4\n",
      "4     5\n",
      "5     6\n",
      "6     7\n",
      "7     8\n",
      "8     9\n",
      "9    10\n",
      "dtype: int64\n"
     ]
    }
   ],
   "source": [
    "import pandas as pd\n",
    "\n",
    "data =[1,2,3,4,5,6,7,8,9,10]\n",
    "\n",
    "series =pd.Series(data)\n",
    "\n",
    "print(series)"
   ]
  },
  {
   "cell_type": "markdown",
   "id": "1e828ece-dfaa-43f6-8d4a-a3615e6a2a70",
   "metadata": {},
   "source": [
    "Q3"
   ]
  },
  {
   "cell_type": "code",
   "execution_count": 8,
   "id": "ed84c47f-eb40-4f5f-9f1e-b2d099e2eff3",
   "metadata": {},
   "outputs": [
    {
     "name": "stdout",
     "output_type": "stream",
     "text": [
      "     Name  Age  Gender\n",
      "0   Alice   25  Female\n",
      "1     Bob   30    Male\n",
      "2  Claire   27  Female\n"
     ]
    }
   ],
   "source": [
    "import pandas as pd\n",
    "\n",
    "\n",
    "data = {\n",
    "    \"Name\": [\"Alice\", \"Bob\", \"Claire\"],\n",
    "    \"Age\": [25, 30, 27],\n",
    "    \"Gender\": [\"Female\", \"Male\", \"Female\"]\n",
    "}\n",
    "\n",
    "\n",
    "df = pd.DataFrame(data)\n",
    "\n",
    "\n",
    "print(df)"
   ]
  },
  {
   "cell_type": "markdown",
   "id": "ec91f6a9-5fa0-4136-9c3d-be9a28287b25",
   "metadata": {},
   "source": [
    "Q4"
   ]
  },
  {
   "cell_type": "raw",
   "id": "ee3d92d5-f794-4125-9f3c-de7203da11d3",
   "metadata": {},
   "source": [
    "DataFrame:\n",
    "\n",
    "Think of a DataFrame as a two-dimensional labeled table.\n",
    "It stores tabular data with multiple columns representing different variables and rows representing observations.\n",
    "Each column can have a different data type (strings, numbers, dates, etc.).\n",
    "It excels at tasks like:\n",
    "Data cleaning and manipulation (selecting, filtering, sorting, grouping)\n",
    "Exploratory data analysis (statistics, correlations, visualizations)\n",
    "Joining and merging datasets\n",
    "\n",
    "                DataFrame\t                  Series\n",
    "Dimensionality\t2D (rows & columns)\t             1D (single column)\n",
    "Data types\tMixed in different columns\t          Same across all values\n",
    "Indexing\tMulti-dimensional (row & column labels)  \tSingle-dimensional (labels)\n",
    "Use cases\tTabular data analysis, merging, transformations\t   Single variable analysis, statistics, calculations"
   ]
  },
  {
   "cell_type": "markdown",
   "id": "4097ea50-01ff-44a1-8c8c-ba4734c1bceb",
   "metadata": {},
   "source": [
    "Q5"
   ]
  },
  {
   "cell_type": "markdown",
   "id": "45f0b389-1e7c-4a70-9560-9620820b4352",
   "metadata": {},
   "source": [
    "df.head(n): Shows the first n rows.\n",
    "df.tail(n): Shows the last n rows.\n",
    "df[condition]: Filters rows based on a boolean condition.\n",
    "\n",
    "\n",
    "# Select rows where age is greater than 27\n",
    "df_filtered = df[df['Age'] > 27]\n",
    "\n",
    "# Select first two rows and 'Age' column\n",
    "df_subset = df.loc[:1, 'Age']\n"
   ]
  },
  {
   "cell_type": "markdown",
   "id": "d57fdfca-2d34-47bb-97f2-d5ff787bd096",
   "metadata": {},
   "source": [
    "Q6"
   ]
  },
  {
   "cell_type": "markdown",
   "id": "a66b037d-7fd1-4476-8378-aa0f980c3a2a",
   "metadata": {},
   "source": [
    "All three, Series, DataFrame, and Panel, are mutable in nature. However, there's a nuance to their mutability"
   ]
  },
  {
   "cell_type": "code",
   "execution_count": null,
   "id": "47eff04d-fe30-46c1-8b7e-06e71020148e",
   "metadata": {},
   "outputs": [],
   "source": []
  }
 ],
 "metadata": {
  "kernelspec": {
   "display_name": "Python 3 (ipykernel)",
   "language": "python",
   "name": "python3"
  },
  "language_info": {
   "codemirror_mode": {
    "name": "ipython",
    "version": 3
   },
   "file_extension": ".py",
   "mimetype": "text/x-python",
   "name": "python",
   "nbconvert_exporter": "python",
   "pygments_lexer": "ipython3",
   "version": "3.10.8"
  }
 },
 "nbformat": 4,
 "nbformat_minor": 5
}
